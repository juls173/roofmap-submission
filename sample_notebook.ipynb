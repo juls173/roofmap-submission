{
 "cells": [
  {
   "cell_type": "markdown",
   "id": "c230a478-d35b-466b-88c7-7498fcb7ab97",
   "metadata": {},
   "source": [
    "#### Project Description\n",
    "\n",
    "Solar energy plays a crucial role in reducing greenhouse gas emissions and meeting rising energy demands. Information on building roof types and geometry is essential for assessing solar potential, improving energy efficiency, and supporting energy transition policies. Roof material and shape data also can inform studies on thermal efficiency, roof durability, disaster risk, heritage conservation, urban heat, and more.\n",
    "\n",
    "This study aims to develop a ready-to-use, AI-ready open dataset containing building roof types and geometry, along with a scalable pipeline for roof material classification. The dataset is created using OpenStreetMap (OSM) roof material labels and high-resolution satellite imagery obtained from [OpenAerialMap](https://map.openaerialmap.org/#/7.164459228515626,50.84562199133437,12/square/12020303222/617970f8800b10000509eda7?_k=h73n1n), originally from the Maxar [Open Data Program](https://www.maxar.com/open-data), leveraging OSM building outlines to avoid computationally expensive segmentation processes. This notebook includes the code to obtain and preprocess this data, which can be used to transform any geospatial dataset into the YOLO dataset format, in addition to training a model.\n",
    "\n",
    "To demonstrate the dataset’s applicability, a convolutional neural network (CNN) model, specifically, Ultralytics' YOLOv11, is used to classify roofs into categories such as roof tiles, tar paper, and metal, followed by an evaluation of the model’s performance."
   ]
  },
  {
   "cell_type": "markdown",
   "id": "b660e1cf-5002-4b7c-8487-e80bae9aba49",
   "metadata": {},
   "source": [
    "#### Step 0: Ensure dependencies"
   ]
  },
  {
   "cell_type": "code",
   "execution_count": 2,
   "id": "9b640725-cf30-4d38-acc6-7ad26e2d7f7d",
   "metadata": {},
   "outputs": [
    {
     "name": "stdout",
     "output_type": "stream",
     "text": [
      "Requirement already satisfied: affine==2.4.0 in ./venv/lib/python3.12/site-packages (from -r requirements.txt (line 1)) (2.4.0)\n",
      "Requirement already satisfied: anyio==4.9.0 in ./venv/lib/python3.12/site-packages (from -r requirements.txt (line 2)) (4.9.0)\n",
      "Requirement already satisfied: argon2-cffi==23.1.0 in ./venv/lib/python3.12/site-packages (from -r requirements.txt (line 3)) (23.1.0)\n",
      "Requirement already satisfied: argon2-cffi-bindings==21.2.0 in ./venv/lib/python3.12/site-packages (from -r requirements.txt (line 4)) (21.2.0)\n",
      "Requirement already satisfied: arrow==1.3.0 in ./venv/lib/python3.12/site-packages (from -r requirements.txt (line 5)) (1.3.0)\n",
      "Requirement already satisfied: asttokens==3.0.0 in ./venv/lib/python3.12/site-packages (from -r requirements.txt (line 6)) (3.0.0)\n",
      "Requirement already satisfied: async-lru==2.0.5 in ./venv/lib/python3.12/site-packages (from -r requirements.txt (line 7)) (2.0.5)\n",
      "Requirement already satisfied: attrs==25.3.0 in ./venv/lib/python3.12/site-packages (from -r requirements.txt (line 8)) (25.3.0)\n",
      "Requirement already satisfied: babel==2.17.0 in ./venv/lib/python3.12/site-packages (from -r requirements.txt (line 9)) (2.17.0)\n",
      "Requirement already satisfied: beautifulsoup4==4.13.3 in ./venv/lib/python3.12/site-packages (from -r requirements.txt (line 10)) (4.13.3)\n",
      "Requirement already satisfied: bleach==6.2.0 in ./venv/lib/python3.12/site-packages (from -r requirements.txt (line 11)) (6.2.0)\n",
      "Requirement already satisfied: certifi==2025.1.31 in ./venv/lib/python3.12/site-packages (from -r requirements.txt (line 12)) (2025.1.31)\n",
      "Requirement already satisfied: cffi==1.17.1 in ./venv/lib/python3.12/site-packages (from -r requirements.txt (line 13)) (1.17.1)\n",
      "Requirement already satisfied: charset-normalizer==3.4.1 in ./venv/lib/python3.12/site-packages (from -r requirements.txt (line 14)) (3.4.1)\n",
      "Requirement already satisfied: click==8.1.8 in ./venv/lib/python3.12/site-packages (from -r requirements.txt (line 15)) (8.1.8)\n",
      "Requirement already satisfied: click-plugins==1.1.1 in ./venv/lib/python3.12/site-packages (from -r requirements.txt (line 16)) (1.1.1)\n",
      "Requirement already satisfied: cligj==0.7.2 in ./venv/lib/python3.12/site-packages (from -r requirements.txt (line 17)) (0.7.2)\n",
      "Requirement already satisfied: comm==0.2.2 in ./venv/lib/python3.12/site-packages (from -r requirements.txt (line 18)) (0.2.2)\n",
      "Requirement already satisfied: contourpy==1.3.1 in ./venv/lib/python3.12/site-packages (from -r requirements.txt (line 19)) (1.3.1)\n",
      "Requirement already satisfied: cycler==0.12.1 in ./venv/lib/python3.12/site-packages (from -r requirements.txt (line 20)) (0.12.1)\n",
      "Requirement already satisfied: debugpy==1.8.13 in ./venv/lib/python3.12/site-packages (from -r requirements.txt (line 21)) (1.8.13)\n",
      "Requirement already satisfied: decorator==5.2.1 in ./venv/lib/python3.12/site-packages (from -r requirements.txt (line 22)) (5.2.1)\n",
      "Requirement already satisfied: defusedxml==0.7.1 in ./venv/lib/python3.12/site-packages (from -r requirements.txt (line 23)) (0.7.1)\n",
      "Requirement already satisfied: executing==2.2.0 in ./venv/lib/python3.12/site-packages (from -r requirements.txt (line 24)) (2.2.0)\n",
      "Requirement already satisfied: fastjsonschema==2.21.1 in ./venv/lib/python3.12/site-packages (from -r requirements.txt (line 25)) (2.21.1)\n",
      "Requirement already satisfied: filelock==3.18.0 in ./venv/lib/python3.12/site-packages (from -r requirements.txt (line 26)) (3.18.0)\n",
      "Requirement already satisfied: fonttools==4.56.0 in ./venv/lib/python3.12/site-packages (from -r requirements.txt (line 27)) (4.56.0)\n",
      "Requirement already satisfied: fqdn==1.5.1 in ./venv/lib/python3.12/site-packages (from -r requirements.txt (line 28)) (1.5.1)\n",
      "Requirement already satisfied: fsspec==2025.3.2 in ./venv/lib/python3.12/site-packages (from -r requirements.txt (line 29)) (2025.3.2)\n",
      "Requirement already satisfied: geopandas==1.0.1 in ./venv/lib/python3.12/site-packages (from -r requirements.txt (line 30)) (1.0.1)\n",
      "Requirement already satisfied: h11==0.14.0 in ./venv/lib/python3.12/site-packages (from -r requirements.txt (line 31)) (0.14.0)\n",
      "Requirement already satisfied: httpcore==1.0.7 in ./venv/lib/python3.12/site-packages (from -r requirements.txt (line 32)) (1.0.7)\n",
      "Requirement already satisfied: httpx==0.28.1 in ./venv/lib/python3.12/site-packages (from -r requirements.txt (line 33)) (0.28.1)\n",
      "Requirement already satisfied: idna==3.10 in ./venv/lib/python3.12/site-packages (from -r requirements.txt (line 34)) (3.10)\n",
      "Requirement already satisfied: ipykernel==6.29.5 in ./venv/lib/python3.12/site-packages (from -r requirements.txt (line 35)) (6.29.5)\n",
      "Requirement already satisfied: ipython==9.0.2 in ./venv/lib/python3.12/site-packages (from -r requirements.txt (line 36)) (9.0.2)\n",
      "Requirement already satisfied: ipython_pygments_lexers==1.1.1 in ./venv/lib/python3.12/site-packages (from -r requirements.txt (line 37)) (1.1.1)\n",
      "Requirement already satisfied: ipywidgets==8.1.5 in ./venv/lib/python3.12/site-packages (from -r requirements.txt (line 38)) (8.1.5)\n",
      "Requirement already satisfied: isoduration==20.11.0 in ./venv/lib/python3.12/site-packages (from -r requirements.txt (line 39)) (20.11.0)\n",
      "Requirement already satisfied: jedi==0.19.2 in ./venv/lib/python3.12/site-packages (from -r requirements.txt (line 40)) (0.19.2)\n",
      "Requirement already satisfied: Jinja2==3.1.6 in ./venv/lib/python3.12/site-packages (from -r requirements.txt (line 41)) (3.1.6)\n",
      "Requirement already satisfied: json5==0.11.0 in ./venv/lib/python3.12/site-packages (from -r requirements.txt (line 42)) (0.11.0)\n",
      "Requirement already satisfied: jsonpointer==3.0.0 in ./venv/lib/python3.12/site-packages (from -r requirements.txt (line 43)) (3.0.0)\n",
      "Requirement already satisfied: jsonschema==4.23.0 in ./venv/lib/python3.12/site-packages (from -r requirements.txt (line 44)) (4.23.0)\n",
      "Requirement already satisfied: jsonschema-specifications==2024.10.1 in ./venv/lib/python3.12/site-packages (from -r requirements.txt (line 45)) (2024.10.1)\n",
      "Requirement already satisfied: jupyter==1.1.1 in ./venv/lib/python3.12/site-packages (from -r requirements.txt (line 46)) (1.1.1)\n",
      "Requirement already satisfied: jupyter-console==6.6.3 in ./venv/lib/python3.12/site-packages (from -r requirements.txt (line 47)) (6.6.3)\n",
      "Requirement already satisfied: jupyter-events==0.12.0 in ./venv/lib/python3.12/site-packages (from -r requirements.txt (line 48)) (0.12.0)\n",
      "Requirement already satisfied: jupyter-lsp==2.2.5 in ./venv/lib/python3.12/site-packages (from -r requirements.txt (line 49)) (2.2.5)\n",
      "Requirement already satisfied: jupyter_client==8.6.3 in ./venv/lib/python3.12/site-packages (from -r requirements.txt (line 50)) (8.6.3)\n",
      "Requirement already satisfied: jupyter_core==5.7.2 in ./venv/lib/python3.12/site-packages (from -r requirements.txt (line 51)) (5.7.2)\n",
      "Requirement already satisfied: jupyter_server==2.15.0 in ./venv/lib/python3.12/site-packages (from -r requirements.txt (line 52)) (2.15.0)\n",
      "Requirement already satisfied: jupyter_server_terminals==0.5.3 in ./venv/lib/python3.12/site-packages (from -r requirements.txt (line 53)) (0.5.3)\n",
      "Requirement already satisfied: jupyterlab==4.3.6 in ./venv/lib/python3.12/site-packages (from -r requirements.txt (line 54)) (4.3.6)\n",
      "Requirement already satisfied: jupyterlab_pygments==0.3.0 in ./venv/lib/python3.12/site-packages (from -r requirements.txt (line 55)) (0.3.0)\n",
      "Requirement already satisfied: jupyterlab_server==2.27.3 in ./venv/lib/python3.12/site-packages (from -r requirements.txt (line 56)) (2.27.3)\n",
      "Requirement already satisfied: jupyterlab_widgets==3.0.13 in ./venv/lib/python3.12/site-packages (from -r requirements.txt (line 57)) (3.0.13)\n",
      "Requirement already satisfied: kiwisolver==1.4.8 in ./venv/lib/python3.12/site-packages (from -r requirements.txt (line 58)) (1.4.8)\n",
      "Requirement already satisfied: MarkupSafe==3.0.2 in ./venv/lib/python3.12/site-packages (from -r requirements.txt (line 59)) (3.0.2)\n",
      "Requirement already satisfied: matplotlib==3.10.1 in ./venv/lib/python3.12/site-packages (from -r requirements.txt (line 60)) (3.10.1)\n",
      "Requirement already satisfied: matplotlib-inline==0.1.7 in ./venv/lib/python3.12/site-packages (from -r requirements.txt (line 61)) (0.1.7)\n",
      "Requirement already satisfied: mistune==3.1.3 in ./venv/lib/python3.12/site-packages (from -r requirements.txt (line 62)) (3.1.3)\n",
      "Requirement already satisfied: mpmath==1.3.0 in ./venv/lib/python3.12/site-packages (from -r requirements.txt (line 63)) (1.3.0)\n",
      "Requirement already satisfied: nbclient==0.10.2 in ./venv/lib/python3.12/site-packages (from -r requirements.txt (line 64)) (0.10.2)\n",
      "Requirement already satisfied: nbconvert==7.16.6 in ./venv/lib/python3.12/site-packages (from -r requirements.txt (line 65)) (7.16.6)\n",
      "Requirement already satisfied: nbformat==5.10.4 in ./venv/lib/python3.12/site-packages (from -r requirements.txt (line 66)) (5.10.4)\n",
      "Requirement already satisfied: nest-asyncio==1.6.0 in ./venv/lib/python3.12/site-packages (from -r requirements.txt (line 67)) (1.6.0)\n",
      "Requirement already satisfied: networkx==3.4.2 in ./venv/lib/python3.12/site-packages (from -r requirements.txt (line 68)) (3.4.2)\n",
      "Requirement already satisfied: notebook==7.3.3 in ./venv/lib/python3.12/site-packages (from -r requirements.txt (line 69)) (7.3.3)\n",
      "Requirement already satisfied: notebook_shim==0.2.4 in ./venv/lib/python3.12/site-packages (from -r requirements.txt (line 70)) (0.2.4)\n",
      "Requirement already satisfied: numpy==2.1.1 in ./venv/lib/python3.12/site-packages (from -r requirements.txt (line 71)) (2.1.1)\n",
      "Requirement already satisfied: nvidia-cublas-cu12==12.4.5.8 in ./venv/lib/python3.12/site-packages (from -r requirements.txt (line 72)) (12.4.5.8)\n",
      "Requirement already satisfied: nvidia-cuda-cupti-cu12==12.4.127 in ./venv/lib/python3.12/site-packages (from -r requirements.txt (line 73)) (12.4.127)\n",
      "Requirement already satisfied: nvidia-cuda-nvrtc-cu12==12.4.127 in ./venv/lib/python3.12/site-packages (from -r requirements.txt (line 74)) (12.4.127)\n",
      "Requirement already satisfied: nvidia-cuda-runtime-cu12==12.4.127 in ./venv/lib/python3.12/site-packages (from -r requirements.txt (line 75)) (12.4.127)\n",
      "Requirement already satisfied: nvidia-cudnn-cu12==9.1.0.70 in ./venv/lib/python3.12/site-packages (from -r requirements.txt (line 76)) (9.1.0.70)\n",
      "Requirement already satisfied: nvidia-cufft-cu12==11.2.1.3 in ./venv/lib/python3.12/site-packages (from -r requirements.txt (line 77)) (11.2.1.3)\n",
      "Requirement already satisfied: nvidia-curand-cu12==10.3.5.147 in ./venv/lib/python3.12/site-packages (from -r requirements.txt (line 78)) (10.3.5.147)\n",
      "Requirement already satisfied: nvidia-cusolver-cu12==11.6.1.9 in ./venv/lib/python3.12/site-packages (from -r requirements.txt (line 79)) (11.6.1.9)\n",
      "Requirement already satisfied: nvidia-cusparse-cu12==12.3.1.170 in ./venv/lib/python3.12/site-packages (from -r requirements.txt (line 80)) (12.3.1.170)\n",
      "Requirement already satisfied: nvidia-cusparselt-cu12==0.6.2 in ./venv/lib/python3.12/site-packages (from -r requirements.txt (line 81)) (0.6.2)\n",
      "Requirement already satisfied: nvidia-nccl-cu12==2.21.5 in ./venv/lib/python3.12/site-packages (from -r requirements.txt (line 82)) (2.21.5)\n",
      "Requirement already satisfied: nvidia-nvjitlink-cu12==12.4.127 in ./venv/lib/python3.12/site-packages (from -r requirements.txt (line 83)) (12.4.127)\n",
      "Requirement already satisfied: nvidia-nvtx-cu12==12.4.127 in ./venv/lib/python3.12/site-packages (from -r requirements.txt (line 84)) (12.4.127)\n",
      "Requirement already satisfied: opencv-python==4.11.0.86 in ./venv/lib/python3.12/site-packages (from -r requirements.txt (line 85)) (4.11.0.86)\n",
      "Requirement already satisfied: overpy==0.7 in ./venv/lib/python3.12/site-packages (from -r requirements.txt (line 86)) (0.7)\n",
      "Requirement already satisfied: overrides==7.7.0 in ./venv/lib/python3.12/site-packages (from -r requirements.txt (line 87)) (7.7.0)\n",
      "Requirement already satisfied: packaging==24.2 in ./venv/lib/python3.12/site-packages (from -r requirements.txt (line 88)) (24.2)\n",
      "Requirement already satisfied: pandas==2.2.3 in ./venv/lib/python3.12/site-packages (from -r requirements.txt (line 89)) (2.2.3)\n",
      "Requirement already satisfied: pandocfilters==1.5.1 in ./venv/lib/python3.12/site-packages (from -r requirements.txt (line 90)) (1.5.1)\n",
      "Requirement already satisfied: parso==0.8.4 in ./venv/lib/python3.12/site-packages (from -r requirements.txt (line 91)) (0.8.4)\n",
      "Requirement already satisfied: pexpect==4.9.0 in ./venv/lib/python3.12/site-packages (from -r requirements.txt (line 92)) (4.9.0)\n",
      "Requirement already satisfied: pillow==11.1.0 in ./venv/lib/python3.12/site-packages (from -r requirements.txt (line 93)) (11.1.0)\n",
      "Requirement already satisfied: platformdirs==4.3.7 in ./venv/lib/python3.12/site-packages (from -r requirements.txt (line 94)) (4.3.7)\n",
      "Requirement already satisfied: prometheus_client==0.21.1 in ./venv/lib/python3.12/site-packages (from -r requirements.txt (line 95)) (0.21.1)\n",
      "Requirement already satisfied: prompt_toolkit==3.0.50 in ./venv/lib/python3.12/site-packages (from -r requirements.txt (line 96)) (3.0.50)\n",
      "Requirement already satisfied: psutil==7.0.0 in ./venv/lib/python3.12/site-packages (from -r requirements.txt (line 97)) (7.0.0)\n",
      "Requirement already satisfied: ptyprocess==0.7.0 in ./venv/lib/python3.12/site-packages (from -r requirements.txt (line 98)) (0.7.0)\n",
      "Requirement already satisfied: pure_eval==0.2.3 in ./venv/lib/python3.12/site-packages (from -r requirements.txt (line 99)) (0.2.3)\n",
      "Requirement already satisfied: py-cpuinfo==9.0.0 in ./venv/lib/python3.12/site-packages (from -r requirements.txt (line 100)) (9.0.0)\n",
      "Requirement already satisfied: pycparser==2.22 in ./venv/lib/python3.12/site-packages (from -r requirements.txt (line 101)) (2.22)\n",
      "Requirement already satisfied: Pygments==2.19.1 in ./venv/lib/python3.12/site-packages (from -r requirements.txt (line 102)) (2.19.1)\n",
      "Requirement already satisfied: pyogrio==0.10.0 in ./venv/lib/python3.12/site-packages (from -r requirements.txt (line 103)) (0.10.0)\n",
      "Requirement already satisfied: pyparsing==3.2.3 in ./venv/lib/python3.12/site-packages (from -r requirements.txt (line 104)) (3.2.3)\n",
      "Requirement already satisfied: pyproj==3.7.1 in ./venv/lib/python3.12/site-packages (from -r requirements.txt (line 105)) (3.7.1)\n",
      "Requirement already satisfied: python-dateutil==2.9.0.post0 in ./venv/lib/python3.12/site-packages (from -r requirements.txt (line 106)) (2.9.0.post0)\n",
      "Requirement already satisfied: python-json-logger==3.3.0 in ./venv/lib/python3.12/site-packages (from -r requirements.txt (line 107)) (3.3.0)\n",
      "Requirement already satisfied: pytz==2025.2 in ./venv/lib/python3.12/site-packages (from -r requirements.txt (line 108)) (2025.2)\n",
      "Requirement already satisfied: PyYAML==6.0.2 in ./venv/lib/python3.12/site-packages (from -r requirements.txt (line 109)) (6.0.2)\n",
      "Requirement already satisfied: pyzmq==26.3.0 in ./venv/lib/python3.12/site-packages (from -r requirements.txt (line 110)) (26.3.0)\n",
      "Requirement already satisfied: rasterio==1.4.3 in ./venv/lib/python3.12/site-packages (from -r requirements.txt (line 111)) (1.4.3)\n",
      "Requirement already satisfied: referencing==0.36.2 in ./venv/lib/python3.12/site-packages (from -r requirements.txt (line 112)) (0.36.2)\n",
      "Requirement already satisfied: requests==2.32.3 in ./venv/lib/python3.12/site-packages (from -r requirements.txt (line 113)) (2.32.3)\n",
      "Requirement already satisfied: rfc3339-validator==0.1.4 in ./venv/lib/python3.12/site-packages (from -r requirements.txt (line 114)) (0.1.4)\n",
      "Requirement already satisfied: rfc3986-validator==0.1.1 in ./venv/lib/python3.12/site-packages (from -r requirements.txt (line 115)) (0.1.1)\n",
      "Requirement already satisfied: rpds-py==0.24.0 in ./venv/lib/python3.12/site-packages (from -r requirements.txt (line 116)) (0.24.0)\n",
      "Requirement already satisfied: scipy==1.15.2 in ./venv/lib/python3.12/site-packages (from -r requirements.txt (line 117)) (1.15.2)\n",
      "Requirement already satisfied: seaborn==0.13.2 in ./venv/lib/python3.12/site-packages (from -r requirements.txt (line 118)) (0.13.2)\n",
      "Requirement already satisfied: Send2Trash==1.8.3 in ./venv/lib/python3.12/site-packages (from -r requirements.txt (line 119)) (1.8.3)\n",
      "Requirement already satisfied: setuptools==78.1.0 in ./venv/lib/python3.12/site-packages (from -r requirements.txt (line 120)) (78.1.0)\n",
      "Requirement already satisfied: shapely==2.0.7 in ./venv/lib/python3.12/site-packages (from -r requirements.txt (line 121)) (2.0.7)\n",
      "Requirement already satisfied: six==1.17.0 in ./venv/lib/python3.12/site-packages (from -r requirements.txt (line 122)) (1.17.0)\n",
      "Requirement already satisfied: sniffio==1.3.1 in ./venv/lib/python3.12/site-packages (from -r requirements.txt (line 123)) (1.3.1)\n",
      "Requirement already satisfied: soupsieve==2.6 in ./venv/lib/python3.12/site-packages (from -r requirements.txt (line 124)) (2.6)\n",
      "Requirement already satisfied: stack-data==0.6.3 in ./venv/lib/python3.12/site-packages (from -r requirements.txt (line 125)) (0.6.3)\n",
      "Requirement already satisfied: sympy==1.13.1 in ./venv/lib/python3.12/site-packages (from -r requirements.txt (line 126)) (1.13.1)\n",
      "Requirement already satisfied: terminado==0.18.1 in ./venv/lib/python3.12/site-packages (from -r requirements.txt (line 127)) (0.18.1)\n",
      "Requirement already satisfied: tinycss2==1.4.0 in ./venv/lib/python3.12/site-packages (from -r requirements.txt (line 128)) (1.4.0)\n",
      "Requirement already satisfied: torch==2.6.0 in ./venv/lib/python3.12/site-packages (from -r requirements.txt (line 129)) (2.6.0)\n",
      "Requirement already satisfied: torchvision==0.21.0 in ./venv/lib/python3.12/site-packages (from -r requirements.txt (line 130)) (0.21.0)\n",
      "Requirement already satisfied: tornado==6.4.2 in ./venv/lib/python3.12/site-packages (from -r requirements.txt (line 131)) (6.4.2)\n",
      "Requirement already satisfied: tqdm==4.67.1 in ./venv/lib/python3.12/site-packages (from -r requirements.txt (line 132)) (4.67.1)\n",
      "Requirement already satisfied: traitlets==5.14.3 in ./venv/lib/python3.12/site-packages (from -r requirements.txt (line 133)) (5.14.3)\n",
      "Requirement already satisfied: triton==3.2.0 in ./venv/lib/python3.12/site-packages (from -r requirements.txt (line 134)) (3.2.0)\n",
      "Requirement already satisfied: types-python-dateutil==2.9.0.20241206 in ./venv/lib/python3.12/site-packages (from -r requirements.txt (line 135)) (2.9.0.20241206)\n",
      "Requirement already satisfied: typing_extensions==4.13.0 in ./venv/lib/python3.12/site-packages (from -r requirements.txt (line 136)) (4.13.0)\n",
      "Requirement already satisfied: tzdata==2025.2 in ./venv/lib/python3.12/site-packages (from -r requirements.txt (line 137)) (2025.2)\n",
      "Requirement already satisfied: ultralytics==8.3.100 in ./venv/lib/python3.12/site-packages (from -r requirements.txt (line 138)) (8.3.100)\n",
      "Requirement already satisfied: ultralytics-thop==2.0.14 in ./venv/lib/python3.12/site-packages (from -r requirements.txt (line 139)) (2.0.14)\n",
      "Requirement already satisfied: uri-template==1.3.0 in ./venv/lib/python3.12/site-packages (from -r requirements.txt (line 140)) (1.3.0)\n",
      "Requirement already satisfied: urllib3==2.3.0 in ./venv/lib/python3.12/site-packages (from -r requirements.txt (line 141)) (2.3.0)\n",
      "Requirement already satisfied: wcwidth==0.2.13 in ./venv/lib/python3.12/site-packages (from -r requirements.txt (line 142)) (0.2.13)\n",
      "Requirement already satisfied: webcolors==24.11.1 in ./venv/lib/python3.12/site-packages (from -r requirements.txt (line 143)) (24.11.1)\n",
      "Requirement already satisfied: webencodings==0.5.1 in ./venv/lib/python3.12/site-packages (from -r requirements.txt (line 144)) (0.5.1)\n",
      "Requirement already satisfied: websocket-client==1.8.0 in ./venv/lib/python3.12/site-packages (from -r requirements.txt (line 145)) (1.8.0)\n",
      "Requirement already satisfied: widgetsnbextension==4.0.13 in ./venv/lib/python3.12/site-packages (from -r requirements.txt (line 146)) (4.0.13)\n",
      "Note: you may need to restart the kernel to use updated packages.\n"
     ]
    }
   ],
   "source": [
    "%pip install -r requirements.txt"
   ]
  },
  {
   "cell_type": "code",
   "execution_count": 1,
   "id": "62fbb9e9-e580-4467-a482-269599fdb79f",
   "metadata": {},
   "outputs": [],
   "source": [
    "import os\n",
    "import yaml\n",
    "import numpy as np\n",
    "import geopandas as gpd\n",
    "import matplotlib as plt\n",
    "import rasterio\n",
    "from rasterio.windows import Window\n",
    "from shapely.geometry import box, Polygon\n",
    "import cv2\n",
    "import overpy\n",
    "from ultralytics import YOLO"
   ]
  },
  {
   "cell_type": "markdown",
   "id": "631f77d2-a7a6-46ee-a98c-8f9e928a722d",
   "metadata": {},
   "source": [
    "#### Step 1: Data Collection"
   ]
  },
  {
   "cell_type": "markdown",
   "id": "c9cc6163-fbaf-4f9d-954e-6925880eb023",
   "metadata": {},
   "source": [
    "First, we query all the roofs that have a roof:material OpenStreetMap(OSM) tag in the study area. We will be using the Overpass API, which allows us to fetch data from OSM. More information about the Overpass API query language and other examples can be found here: https://wiki.openstreetmap.org/wiki/Overpass_API/Overpass_API_by_Example.\n",
    "\n",
    "We recommend using taginfo's regional databases to get a better understanding of where OpenStreetMap Data you are looking for exists https://taginfo.geofabrik.de/. "
   ]
  },
  {
   "cell_type": "code",
   "execution_count": 5,
   "id": "21103ddf-4c0b-45a7-b3d9-a6e3c80d2d26",
   "metadata": {},
   "outputs": [
    {
     "name": "stdout",
     "output_type": "stream",
     "text": [
      "total buildings queried: 543\n",
      "first 4 buildings: [{'id': 77644686, 'roof_material': 'roof_tiles', 'geometry': [(7.1014851, 50.8568545), (7.101623, 50.8568603), (7.1016302, 50.8568606), (7.1016321, 50.8568421), (7.1016359, 50.8568062), (7.1014702, 50.8567992), (7.1014645, 50.8568536), (7.1014851, 50.8568545)]}, {'id': 77644695, 'roof_material': 'roof_tiles', 'geometry': [(7.1019162, 50.8559073), (7.1019143, 50.8559339), (7.1019084, 50.8560152), (7.1020193, 50.8560183), (7.1021328, 50.8560216), (7.1021406, 50.8559137), (7.1019162, 50.8559073)]}, {'id': 77644703, 'roof_material': 'roof_tiles', 'geometry': [(7.1023742, 50.8562211), (7.1023659, 50.8563396), (7.1025967, 50.856346), (7.1026031, 50.8562539), (7.1026049, 50.8562275), (7.1023742, 50.8562211)]}]\n"
     ]
    }
   ],
   "source": [
    "import overpy\n",
    "\n",
    "def query_osm(bbox: tuple[float, float, float, float]) -> list[dict[str, int|str|list[tuple[float, float]]]]:\n",
    "    \"\"\"\n",
    "    Queries OpenStreetMap (OSM) using Overpass API for buildings within a given bounding box\n",
    "    that have roof material data.\n",
    "\n",
    "    Args:\n",
    "        bbox (tuple[float, float, float, float]): Bounding box coordinates in the format \n",
    "            (min_latitude, min_longitude, max_latitude, max_longitude).\n",
    "\n",
    "    Returns:\n",
    "        list[dict[str, int | str | list[tuple[float, float]]]]: A list of dictionaries where each dictionary represents a building.\n",
    "            Each dictionary contains:\n",
    "            - \"id\" (int): OSM way ID.\n",
    "            - \"roof_material\" (str): Roof material type or \"unknown\" if not specified.\n",
    "            - \"geometry\" (list[tuple[float, float]]): List of (longitude, latitude) tuples \n",
    "              representing the building's outline.\n",
    "    \"\"\"\n",
    "    api = overpy.Overpass()\n",
    "    query = f\"\"\"\n",
    "[out:json][timeout:180];\n",
    "(\n",
    "way[\"building\"][\"roof:material\"]{bbox};\n",
    ");\n",
    "out body;\n",
    ">;\n",
    "out skel qt;\n",
    "\"\"\"\n",
    "\n",
    "    response = api.query(query)\n",
    "\n",
    "    bldgs = []\n",
    "    for way in response.ways:\n",
    "        building = {\n",
    "        \"id\": way.id,\n",
    "        \"roof_material\": way.tags.get(\"roof:material\", \"unknown\"),\n",
    "        \"geometry\": [(float(node.lon), float(node.lat)) for node in way.nodes]\n",
    "        #shapely expects longitude, latitude, in addition to GeoJSONs, even though WGS894 uses latitude, longitude\n",
    "    }\n",
    "        bldgs.append(building)\n",
    "    return bldgs\n",
    "\n",
    "# change the bounding box coordinates to get data from your desired study area (min latitude, min longitude, max latitude, max longitude)\n",
    "bbox = (50.8528358718, 7.09837786378, 50.8568310836, 7.1090734608)\n",
    "# Cologne: 49.97138, 6.69497, 51.02720390596486, 6.907890818310556\n",
    "# Bonn: 50.47044, 7.04552, 50.917936, 7.271421\n",
    "# Meckenheim: 50.13682, 6.90614, 50.5464, 7.0739\n",
    "# Sample: 50.8528358718, 7.0983778637, 50.8568310836, 7.1090734608\n",
    "buildings_material = query_osm(bbox)\n",
    "\n",
    "print(f\"total buildings queried: {len(buildings_material)}\")\n",
    "print(f\"first 4 buildings: {buildings_material[0:3]}\")"
   ]
  },
  {
   "cell_type": "markdown",
   "id": "36fea958-4860-4f2a-b612-bd926782138d",
   "metadata": {},
   "source": [
    "Next, we convert the queried OSM data into a usable GeoJSON format"
   ]
  },
  {
   "cell_type": "code",
   "execution_count": 6,
   "id": "ecb6dfaa-b4da-4e28-bada-83674619c843",
   "metadata": {},
   "outputs": [
    {
     "name": "stdout",
     "output_type": "stream",
     "text": [
      "roof_material\n",
      "roof_tiles    435\n",
      "tar_paper     102\n",
      "Name: count, dtype: int64\n"
     ]
    }
   ],
   "source": [
    "def create_building_material_gdf(buildings):\n",
    "    \"\"\"\n",
    "    Creates a GeoDataFrame from a list of building data, standardizes roof material labels,\n",
    "    filters out rare categories, and saves the data as GeoJSON files.\n",
    "\n",
    "    Args:\n",
    "        buildings (list[dict[str, int | str | list[tuple[float, float]]]]): A list of dictionaries representing buildings,\n",
    "            each containing:\n",
    "            - \"id\" (int): The OSM way ID.\n",
    "            - \"roof_material\" (str): The type of roof material.\n",
    "            - \"geometry\" (list[tuple[float, float]]): List of (longitude, latitude) tuples.\n",
    "\n",
    "    Returns:\n",
    "        gpd.GeoDataFrame: Filtered GeoDataFrame containing buildings with more common roof materials.\n",
    "    \"\"\"\n",
    "    geometries = [Polygon(building[\"geometry\"]) for building in buildings]\n",
    "    roof_materials = [building[\"roof_material\"] for building in buildings]\n",
    "\n",
    "    gdf = gpd.GeoDataFrame({\"roof_material\": roof_materials}, geometry=geometries)\n",
    "    gdf.set_crs(epsg=4326, inplace=True)\n",
    "\n",
    "    # filter roof categories to ensure \n",
    "    category_counts = gdf[\"roof_material\"].value_counts()\n",
    "    keep_materials = category_counts[category_counts > 10].index.tolist()\n",
    "    gdf_filtered = gdf[gdf['roof_material'].isin(keep_materials)]\n",
    "\n",
    "    output_file = \"sample_buildings.geojson\"\n",
    "    gdf.to_file(output_file, driver=\"GeoJSON\")\n",
    "\n",
    "    output_file_filtered = \"sample_buildings_filtered.geojson\"\n",
    "    gdf_filtered.to_file(output_file_filtered, driver=\"GeoJSON\")\n",
    "    return gdf_filtered\n",
    "\n",
    "gdf_filtered = create_building_material_gdf(buildings_material)\n",
    "print(gdf_filtered['roof_material'].value_counts())\n"
   ]
  },
  {
   "cell_type": "markdown",
   "id": "f6686cc5-68dd-4d0d-8aff-486875a9aaf8",
   "metadata": {},
   "source": [
    "#### Step 2: Data Preprocessing and Formatting\n",
    "In this step, we use the RoofMaterialDatasetConverter class to prepare our dataset for training a YOLO model. This involves slicing the input raster image into overlapping patches and generating corresponding label files based on the roof material polygons from the GeoJSON. Each patch is filtered to ensure it contains a minimum number of labeled buildings. For valid patches, the building footprints are clipped, normalized, and saved in YOLO segmentation format. The dataset is then automatically split into training, validation, and test sets, and saved in a structured format. A YAML configuration file is also created to define the dataset structure and class labels for use during model training.\n",
    "\n",
    "Note that the sample dataset is extremely unbalanced and does not include the other 4 notable roof classes. After saving the queried OpenStreetMap data to a GeoJSON, we manually aligned the data and fixed incorrect labels in QGIS. For the purpose of the sample dataset demonstration, we will use the GeoJSON that was just generated."
   ]
  },
  {
   "cell_type": "code",
   "execution_count": 7,
   "id": "d712e136-4687-43c1-a977-02e17842b381",
   "metadata": {},
   "outputs": [],
   "source": [
    "class RoofMaterialDatasetConverter:\n",
    "    def __init__(self, \n",
    "                 geojson_path: str, \n",
    "                 raster_path: str, \n",
    "                 output_dir: str, \n",
    "                 patch_size: int = 640, \n",
    "                 overlap: int = 128,\n",
    "                 patch_min_buildings: int = 2) -> None:\n",
    "\n",
    "        self.gdf = gpd.read_file(geojson_path)\n",
    "        self.raster = rasterio.open(raster_path)\n",
    "        \n",
    "        self.output_dir = output_dir\n",
    "        \n",
    "        for split in ['train', 'val', 'test']:\n",
    "            os.makedirs(os.path.join(output_dir, 'images', split), exist_ok=True)\n",
    "            os.makedirs(os.path.join(output_dir, 'labels', split), exist_ok=True)\n",
    "        \n",
    "        self.patch_size = patch_size\n",
    "        self.overlap = overlap\n",
    "        self.patch_min_buildings = patch_min_buildings\n",
    "\n",
    "        self.class_mapping = {\n",
    "            'roof_tiles': 0,\n",
    "            'tar_paper': 1,\n",
    "            'metal': 2,\n",
    "            'concrete': 3,\n",
    "            'tile': 4,\n",
    "            'gravel': 5,\n",
    "            'glass': 6\n",
    "        }\n",
    "\n",
    "    def generate_patches(self, \n",
    "                     train_ratio: float = 0.7, \n",
    "                     val_ratio: float = 0.15, \n",
    "                     random_state: int = 42) -> dict[str, list[tuple[str, str]]]:\n",
    "        \"\"\"\n",
    "        Generate image patches with corresponding roof material labels.\n",
    "        \n",
    "        Returns:\n",
    "            list of tuples: [(image_path, label_path), ...]\n",
    "        \"\"\"\n",
    "        rng = np.random.default_rng(random_state)\n",
    "\n",
    "        # collect all potential patches\n",
    "        all_patches: list[tuple[str, str]] = []\n",
    "        \n",
    "        height, width = self.raster.height, self.raster.width\n",
    "        for y in range(0, height, self.patch_size - self.overlap):\n",
    "            for x in range(0, width, self.patch_size - self.overlap):\n",
    "                window = Window(x, y, self.patch_size, self.patch_size)\n",
    "                \n",
    "                # read patch from raster\n",
    "                try:\n",
    "                    patch = self.raster.read(window=window)\n",
    "                    patch = np.transpose(patch[:3], (1, 2, 0))  # transpose to HWC\n",
    "                except Exception as e:\n",
    "                    print(f\"Skipping patch at ({x},{y}) due to error: {e}\")\n",
    "                    continue\n",
    "                \n",
    "                # check if patch contains any roof material labels\n",
    "                patch_bounds = box(\n",
    "                    self.raster.xy(y, x)[0], \n",
    "                    self.raster.xy(y, x)[1],\n",
    "                    self.raster.xy(y + self.patch_size, x + self.patch_size)[0],\n",
    "                    self.raster.xy(y + self.patch_size, x + self.patch_size)[1]\n",
    "                )\n",
    "                \n",
    "                # filter roof polygons within this patch\n",
    "                patch_roofs = self.gdf[self.gdf.intersects(patch_bounds)]\n",
    "                \n",
    "                if len(patch_roofs) >= self.patch_min_buildings:\n",
    "                    label_content = self._generate_labels(patch_roofs, patch_bounds)\n",
    "                    if label_content:\n",
    "                        all_patches.append((patch, (y, x), label_content))\n",
    "        \n",
    "        # randomly split patches\n",
    "        n_patches = len(all_patches)\n",
    "        train_size = int(n_patches * train_ratio)\n",
    "        val_size = int(n_patches * val_ratio)\n",
    "        \n",
    "        rng.shuffle(all_patches)\n",
    "        \n",
    "        train_patches = all_patches[:train_size]\n",
    "        val_patches = all_patches[train_size:train_size+val_size]\n",
    "        test_patches = all_patches[train_size+val_size:]\n",
    "        \n",
    "        split_paths = {\n",
    "            'train': [],\n",
    "            'val': [],\n",
    "            'test': []\n",
    "        }\n",
    "        \n",
    "        for split, patches in [('train', train_patches), ('val', val_patches), ('test', test_patches)]:\n",
    "            for patch, (y, x), label_content in patches:\n",
    "                patch_filename = f'patch_{y}_{x}.png'\n",
    "                \n",
    "                img_path = os.path.join(self.output_dir, 'images', split, patch_filename)\n",
    "                label_path = os.path.join(self.output_dir, 'labels', split, patch_filename.replace('.png', '.txt'))\n",
    "                \n",
    "                os.makedirs(os.path.dirname(img_path), exist_ok=True)\n",
    "                os.makedirs(os.path.dirname(label_path), exist_ok=True)\n",
    "                \n",
    "                cv2.imwrite(img_path, cv2.cvtColor(patch, cv2.COLOR_RGB2BGR))\n",
    "                \n",
    "                with open(label_path, 'w') as f:\n",
    "                    f.write('\\n'.join(label_content))\n",
    "                split_paths[split].append((img_path, label_path))\n",
    "        \n",
    "        return split_paths\n",
    "\n",
    "    def _generate_labels(self, \n",
    "                         roof_polygons: gpd.GeoDataFrame,\n",
    "                         patch_bounds: box) -> list[str]:\n",
    "        \"\"\"\n",
    "        Generate YOLO segmentation labels for roof polygons in a patch.\n",
    "        \n",
    "        Parameters:\n",
    "            roof_polygons : GeoDataFrame\n",
    "                GeoDataFrame of roof polygons in the current patch\n",
    "            patch_bounds : shapely.geometry.box\n",
    "                Bounding box of the current patch\n",
    "        \n",
    "        Returns:\n",
    "            list of label strings\n",
    "        \"\"\"\n",
    "        labels: list[str] = []\n",
    "        \n",
    "        for _, roof in roof_polygons.iterrows():\n",
    "            # only include specified roof material classes\n",
    "            class_name = roof['roof_material']\n",
    "            if class_name not in self.class_mapping:\n",
    "                continue\n",
    "            class_index = self.class_mapping[class_name]\n",
    "            \n",
    "            # clip polygon to patch bounds\n",
    "            clipped_roof = roof.geometry.intersection(patch_bounds)\n",
    "            \n",
    "            if not clipped_roof.is_empty:\n",
    "                try:\n",
    "                    coords = np.array(clipped_roof.exterior.coords)\n",
    "                    normalized_coords = self._normalize_coordinates(coords, patch_bounds)\n",
    "                    \n",
    "                    if len(normalized_coords) >= 3:\n",
    "                        # create label string: class_index x1 y1 x2 y2 ...\n",
    "                        label = f\"{class_index} \" + \" \".join(map(str, normalized_coords.flatten()))\n",
    "                        labels.append(label)\n",
    "                except Exception as e:\n",
    "                    print(f\"Error processing roof polygon: {e}\")\n",
    "        \n",
    "        return labels\n",
    "    \n",
    "    def _normalize_coordinates(self, \n",
    "                               coords: np.ndarray, \n",
    "                               patch_bounds: box) -> np.ndarray:\n",
    "        \"\"\"\n",
    "        Normalize polygon coordinates to 0-1 range within patch.\n",
    "        \n",
    "        Parameters:\n",
    "            coords: numpy.ndarray\n",
    "                Original polygon coordinates\n",
    "            patch_bounds : shapely.geometry.box\n",
    "                Bounding box of the current patch\n",
    "        \n",
    "        Returns:\n",
    "            numpy.ndarray of normalized coordinates\n",
    "        \"\"\"\n",
    "        x_min, y_min = patch_bounds.bounds[0], patch_bounds.bounds[1]\n",
    "        x_max, y_max = patch_bounds.bounds[2], patch_bounds.bounds[3]\n",
    "        normalized_coords = coords.copy()\n",
    "        normalized_coords[:, 0] = (coords[:, 0] - x_min) / (x_max - x_min)\n",
    "        #normalized_coords[:, 1] = (coords[:, 1] - y_min) / (y_max - y_min)\n",
    "        normalized_coords[:, 1] = (y_max - coords[:, 1]) / (y_max - y_min)\n",
    "\n",
    "        return normalized_coords\n",
    "    \n",
    "    def create_dataset_yaml(self) -> str:\n",
    "        \"\"\"\n",
    "        Create YOLO dataset configuration YAML file.\n",
    "        \n",
    "        Returns:\n",
    "            str: Path to the created YAML file\n",
    "        \"\"\"\n",
    "        # reverse order for right YAML formatting\n",
    "        class_names = {v: k for k, v in self.class_mapping.items()}\n",
    "        \n",
    "        yaml_content = {\n",
    "            'path': self.output_dir,\n",
    "            'train': 'images/train',\n",
    "            'val': 'images/val',\n",
    "            'test': 'images/test',\n",
    "            'names': class_names\n",
    "        }\n",
    "        \n",
    "        yaml_path = os.path.join(self.output_dir, 'roof_materials.yaml')\n",
    "        with open(yaml_path, 'w') as f:\n",
    "            yaml.dump(yaml_content, f, default_flow_style=False)\n",
    "        \n",
    "        return yaml_path\n"
   ]
  },
  {
   "cell_type": "code",
   "execution_count": 25,
   "id": "22b1089d-b4be-430f-b953-44094e28df81",
   "metadata": {},
   "outputs": [
    {
     "name": "stdout",
     "output_type": "stream",
     "text": [
      "YOLO dataset created at datasets/sample_dataset\n",
      "Train patches: 11\n",
      "Validation patches: 2\n",
      "Test patches: 3\n",
      "Dataset YAML created at datasets/sample_dataset/roof_materials.yaml\n"
     ]
    }
   ],
   "source": [
    "geojson_path = 'sample_buildings.geojson'\n",
    "raster_path = '61796764800b10000509eda2.tif'\n",
    "output_dir = 'datasets/sample_dataset'\n",
    "\n",
    "converter = RoofMaterialDatasetConverter(\n",
    "    geojson_path, \n",
    "    raster_path, \n",
    "    output_dir,\n",
    "    patch_min_buildings=3\n",
    ")\n",
    "\n",
    "dataset_splits = converter.generate_patches(\n",
    "    train_ratio=0.7,\n",
    "    val_ratio=0.15,\n",
    "    random_state=42\n",
    ")\n",
    "\n",
    "yaml_path = converter.create_dataset_yaml()\n",
    "\n",
    "print(f\"YOLO dataset created at {output_dir}\")\n",
    "print(f\"Train patches: {len(dataset_splits['train'])}\")\n",
    "print(f\"Validation patches: {len(dataset_splits['val'])}\")\n",
    "print(f\"Test patches: {len(dataset_splits['test'])}\")\n",
    "print(f\"Dataset YAML created at {yaml_path}\")\n"
   ]
  },
  {
   "cell_type": "markdown",
   "id": "82be99c6-5c2e-4e10-ab7e-839a81f71f6a",
   "metadata": {},
   "source": [
    "#### Step 3: Model Training\n",
    "We train a YOLOv8 segmentation model (yolo11n-seg.pt) on a custom dataset of roof materials. Training runs for up to 100 epochs. The model uses 640x640 images (or any multiple of 16 for the patch size), a batch size of 16, and leverages a GPU (device='0'). Training plots are enabled for visualizing performance metrics. Actual model results will be attached."
   ]
  },
  {
   "cell_type": "code",
   "execution_count": 3,
   "id": "6d4f69c6-5d46-4da7-a254-e85a90e78ea3",
   "metadata": {},
   "outputs": [
    {
     "name": "stdout",
     "output_type": "stream",
     "text": [
      "New https://pypi.org/project/ultralytics/8.3.105 available 😃 Update with 'pip install -U ultralytics'\n",
      "Ultralytics 8.3.100 🚀 Python-3.12.3 torch-2.6.0+cu124 CUDA:0 (NVIDIA A100-SXM4-40GB, 40326MiB)\n",
      "\u001b[34m\u001b[1mengine/trainer: \u001b[0mtask=segment, mode=train, model=yolo11n-seg.pt, data=datasets/sample_dataset/roof_materials.yaml, epochs=100, time=None, patience=20, batch=16, imgsz=640, save=True, save_period=10, cache=False, device=0, workers=8, project=None, name=train12, exist_ok=False, pretrained=True, optimizer=auto, verbose=True, seed=0, deterministic=True, single_cls=False, rect=False, cos_lr=False, close_mosaic=10, resume=False, amp=True, fraction=1.0, profile=False, freeze=None, multi_scale=False, overlap_mask=True, mask_ratio=4, dropout=0.0, val=True, split=val, save_json=False, save_hybrid=False, conf=None, iou=0.7, max_det=300, half=False, dnn=False, plots=True, source=None, vid_stride=1, stream_buffer=False, visualize=False, augment=False, agnostic_nms=False, classes=None, retina_masks=False, embed=None, show=False, save_frames=False, save_txt=False, save_conf=False, save_crop=False, show_labels=True, show_conf=True, show_boxes=True, line_width=None, format=torchscript, keras=False, optimize=False, int8=False, dynamic=False, simplify=True, opset=None, workspace=None, nms=False, lr0=0.01, lrf=0.01, momentum=0.937, weight_decay=0.0005, warmup_epochs=3.0, warmup_momentum=0.8, warmup_bias_lr=0.1, box=7.5, cls=0.5, dfl=1.5, pose=12.0, kobj=1.0, nbs=64, hsv_h=0.015, hsv_s=0.7, hsv_v=0.4, degrees=0.0, translate=0.1, scale=0.5, shear=0.0, perspective=0.0, flipud=0.0, fliplr=0.5, bgr=0.0, mosaic=1.0, mixup=0.0, copy_paste=0.0, copy_paste_mode=flip, auto_augment=randaugment, erasing=0.4, crop_fraction=1.0, cfg=None, tracker=botsort.yaml, save_dir=/home/ubuntu/roofmap_project/runs/segment/train12\n",
      "Downloading https://ultralytics.com/assets/Arial.ttf to '/home/ubuntu/.config/Ultralytics/Arial.ttf'...\n"
     ]
    },
    {
     "name": "stderr",
     "output_type": "stream",
     "text": [
      "100%|████████████████████████████████████████████████████████████████████████| 755k/755k [00:00<00:00, 29.7MB/s]"
     ]
    },
    {
     "name": "stdout",
     "output_type": "stream",
     "text": [
      "Overriding model.yaml nc=80 with nc=7\n",
      "\n",
      "                   from  n    params  module                                       arguments                     \n",
      "  0                  -1  1       464  ultralytics.nn.modules.conv.Conv             [3, 16, 3, 2]                 \n",
      "  1                  -1  1      4672  ultralytics.nn.modules.conv.Conv             [16, 32, 3, 2]                \n",
      "  2                  -1  1      6640  ultralytics.nn.modules.block.C3k2            [32, 64, 1, False, 0.25]      \n",
      "  3                  -1  1     36992  ultralytics.nn.modules.conv.Conv             [64, 64, 3, 2]                \n",
      "  4                  -1  1     26080  ultralytics.nn.modules.block.C3k2            [64, 128, 1, False, 0.25]     \n",
      "  5                  -1  1    147712  ultralytics.nn.modules.conv.Conv             [128, 128, 3, 2]              \n",
      "  6                  -1  1     87040  ultralytics.nn.modules.block.C3k2            [128, 128, 1, True]           \n",
      "  7                  -1  1    295424  ultralytics.nn.modules.conv.Conv             [128, 256, 3, 2]              \n",
      "  8                  -1  1    346112  ultralytics.nn.modules.block.C3k2            [256, 256, 1, True]           \n",
      "  9                  -1  1    164608  ultralytics.nn.modules.block.SPPF            [256, 256, 5]                 \n",
      " 10                  -1  1    249728  ultralytics.nn.modules.block.C2PSA           [256, 256, 1]                 \n",
      " 11                  -1  1         0  torch.nn.modules.upsampling.Upsample         [None, 2, 'nearest']          \n",
      " 12             [-1, 6]  1         0  ultralytics.nn.modules.conv.Concat           [1]                           \n",
      " 13                  -1  1    111296  ultralytics.nn.modules.block.C3k2            [384, 128, 1, False]          \n",
      " 14                  -1  1         0  torch.nn.modules.upsampling.Upsample         [None, 2, 'nearest']          \n",
      " 15             [-1, 4]  1         0  ultralytics.nn.modules.conv.Concat           [1]                           \n",
      " 16                  -1  1     32096  ultralytics.nn.modules.block.C3k2            [256, 64, 1, False]           \n",
      " 17                  -1  1     36992  ultralytics.nn.modules.conv.Conv             [64, 64, 3, 2]                \n",
      " 18            [-1, 13]  1         0  ultralytics.nn.modules.conv.Concat           [1]                           \n",
      " 19                  -1  1     86720  ultralytics.nn.modules.block.C3k2            [192, 128, 1, False]          \n",
      " 20                  -1  1    147712  ultralytics.nn.modules.conv.Conv             [128, 128, 3, 2]              \n",
      " 21            [-1, 10]  1         0  ultralytics.nn.modules.conv.Concat           [1]                           \n",
      " 22                  -1  1    378880  ultralytics.nn.modules.block.C3k2            [384, 256, 1, True]           \n",
      " 23        [16, 19, 22]  1    684805  ultralytics.nn.modules.head.Segment          [7, 32, 64, [64, 128, 256]]   \n"
     ]
    },
    {
     "name": "stderr",
     "output_type": "stream",
     "text": [
      "\n"
     ]
    },
    {
     "name": "stdout",
     "output_type": "stream",
     "text": [
      "YOLO11n-seg summary: 203 layers, 2,843,973 parameters, 2,843,957 gradients, 10.4 GFLOPs\n",
      "\n",
      "Transferred 510/561 items from pretrained weights\n",
      "Freezing layer 'model.23.dfl.conv.weight'\n",
      "\u001b[34m\u001b[1mAMP: \u001b[0mrunning Automatic Mixed Precision (AMP) checks...\n",
      "Downloading https://github.com/ultralytics/assets/releases/download/v8.3.0/yolo11n.pt to 'yolo11n.pt'...\n"
     ]
    },
    {
     "name": "stderr",
     "output_type": "stream",
     "text": [
      "100%|███████████████████████████████████████████████████████████████████████| 5.35M/5.35M [00:00<00:00, 112MB/s]\n"
     ]
    },
    {
     "name": "stdout",
     "output_type": "stream",
     "text": [
      "\u001b[34m\u001b[1mAMP: \u001b[0mchecks passed ✅\n"
     ]
    },
    {
     "name": "stderr",
     "output_type": "stream",
     "text": [
      "\u001b[34m\u001b[1mtrain: \u001b[0mScanning /home/ubuntu/roofmap_project/datasets/sample_dataset/labels/train... 11 images, 0 backgrounds, 0\u001b[0m"
     ]
    },
    {
     "name": "stdout",
     "output_type": "stream",
     "text": [
      "\u001b[34m\u001b[1mtrain: \u001b[0mNew cache created: /home/ubuntu/roofmap_project/datasets/sample_dataset/labels/train.cache\n"
     ]
    },
    {
     "name": "stderr",
     "output_type": "stream",
     "text": [
      "\n",
      "\u001b[34m\u001b[1mval: \u001b[0mScanning /home/ubuntu/roofmap_project/datasets/sample_dataset/labels/val... 2 images, 0 backgrounds, 0 corr\u001b[0m"
     ]
    },
    {
     "name": "stdout",
     "output_type": "stream",
     "text": [
      "\u001b[34m\u001b[1mval: \u001b[0mNew cache created: /home/ubuntu/roofmap_project/datasets/sample_dataset/labels/val.cache\n"
     ]
    },
    {
     "name": "stderr",
     "output_type": "stream",
     "text": [
      "\n"
     ]
    },
    {
     "name": "stdout",
     "output_type": "stream",
     "text": [
      "Plotting labels to /home/ubuntu/roofmap_project/runs/segment/train12/labels.jpg... \n",
      "\u001b[34m\u001b[1moptimizer:\u001b[0m 'optimizer=auto' found, ignoring 'lr0=0.01' and 'momentum=0.937' and determining best 'optimizer', 'lr0' and 'momentum' automatically... \n",
      "\u001b[34m\u001b[1moptimizer:\u001b[0m AdamW(lr=0.000909, momentum=0.9) with parameter groups 90 weight(decay=0.0), 101 weight(decay=0.0005), 100 bias(decay=0.0)\n",
      "Image sizes 640 train, 640 val\n",
      "Using 8 dataloader workers\n",
      "Logging results to \u001b[1m/home/ubuntu/roofmap_project/runs/segment/train12\u001b[0m\n",
      "Starting training for 100 epochs...\n",
      "\n",
      "      Epoch    GPU_mem   box_loss   seg_loss   cls_loss   dfl_loss  Instances       Size\n"
     ]
    },
    {
     "name": "stderr",
     "output_type": "stream",
     "text": [
      "      1/100      2.88G      3.897      5.118      4.652       2.68        779        640: 100%|██████████| 1/1 [\n",
      "                 Class     Images  Instances      Box(P          R      mAP50  mAP50-95)     Mask(P          R  "
     ]
    },
    {
     "name": "stdout",
     "output_type": "stream",
     "text": [
      "                   all          2        112          0          0          0          0          0          0          0          0\n"
     ]
    },
    {
     "name": "stderr",
     "output_type": "stream",
     "text": [
      "\n"
     ]
    },
    {
     "name": "stdout",
     "output_type": "stream",
     "text": [
      "\n",
      "      Epoch    GPU_mem   box_loss   seg_loss   cls_loss   dfl_loss  Instances       Size\n"
     ]
    },
    {
     "name": "stderr",
     "output_type": "stream",
     "text": [
      "      2/100       3.3G      3.853      5.029      4.627      2.464        916        640: 100%|██████████| 1/1 [\n",
      "                 Class     Images  Instances      Box(P          R      mAP50  mAP50-95)     Mask(P          R  "
     ]
    },
    {
     "name": "stdout",
     "output_type": "stream",
     "text": [
      "                   all          2        112          0          0          0          0          0          0          0          0\n"
     ]
    },
    {
     "name": "stderr",
     "output_type": "stream",
     "text": [
      "\n"
     ]
    },
    {
     "name": "stdout",
     "output_type": "stream",
     "text": [
      "\n",
      "      Epoch    GPU_mem   box_loss   seg_loss   cls_loss   dfl_loss  Instances       Size\n"
     ]
    },
    {
     "name": "stderr",
     "output_type": "stream",
     "text": [
      "      3/100       3.3G      4.083      5.585      4.712      2.531        650        640: 100%|██████████| 1/1 [\n",
      "                 Class     Images  Instances      Box(P          R      mAP50  mAP50-95)     Mask(P          R  "
     ]
    },
    {
     "name": "stdout",
     "output_type": "stream",
     "text": [
      "                   all          2        112          0          0          0          0          0          0          0          0\n"
     ]
    },
    {
     "name": "stderr",
     "output_type": "stream",
     "text": [
      "\n"
     ]
    },
    {
     "name": "stdout",
     "output_type": "stream",
     "text": [
      "\n",
      "      Epoch    GPU_mem   box_loss   seg_loss   cls_loss   dfl_loss  Instances       Size\n"
     ]
    },
    {
     "name": "stderr",
     "output_type": "stream",
     "text": [
      "      4/100      3.31G       4.14      5.268      4.674      2.564        796        640: 100%|██████████| 1/1 [\n",
      "                 Class     Images  Instances      Box(P          R      mAP50  mAP50-95)     Mask(P          R  "
     ]
    },
    {
     "name": "stdout",
     "output_type": "stream",
     "text": [
      "                   all          2        112          0          0          0          0          0          0          0          0\n"
     ]
    },
    {
     "name": "stderr",
     "output_type": "stream",
     "text": [
      "\n"
     ]
    },
    {
     "name": "stdout",
     "output_type": "stream",
     "text": [
      "\n",
      "      Epoch    GPU_mem   box_loss   seg_loss   cls_loss   dfl_loss  Instances       Size\n"
     ]
    },
    {
     "name": "stderr",
     "output_type": "stream",
     "text": [
      "      5/100      3.31G      3.658      5.462      4.584      2.668        624        640: 100%|██████████| 1/1 [\n",
      "                 Class     Images  Instances      Box(P          R      mAP50  mAP50-95)     Mask(P          R  "
     ]
    },
    {
     "name": "stdout",
     "output_type": "stream",
     "text": [
      "                   all          2        112          0          0          0          0          0          0          0          0\n"
     ]
    },
    {
     "name": "stderr",
     "output_type": "stream",
     "text": [
      "\n"
     ]
    },
    {
     "name": "stdout",
     "output_type": "stream",
     "text": [
      "\n",
      "      Epoch    GPU_mem   box_loss   seg_loss   cls_loss   dfl_loss  Instances       Size\n"
     ]
    },
    {
     "name": "stderr",
     "output_type": "stream",
     "text": [
      "      6/100      3.65G      4.084      5.417      4.753      2.453        580        640: 100%|██████████| 1/1 [\n",
      "                 Class     Images  Instances      Box(P          R      mAP50  mAP50-95)     Mask(P          R  "
     ]
    },
    {
     "name": "stdout",
     "output_type": "stream",
     "text": [
      "                   all          2        112          0          0          0          0          0          0          0          0\n"
     ]
    },
    {
     "name": "stderr",
     "output_type": "stream",
     "text": [
      "\n"
     ]
    },
    {
     "name": "stdout",
     "output_type": "stream",
     "text": [
      "\n",
      "      Epoch    GPU_mem   box_loss   seg_loss   cls_loss   dfl_loss  Instances       Size\n"
     ]
    },
    {
     "name": "stderr",
     "output_type": "stream",
     "text": [
      "      7/100      3.68G      3.768      4.926      4.662      2.493        625        640: 100%|██████████| 1/1 [\n",
      "                 Class     Images  Instances      Box(P          R      mAP50  mAP50-95)     Mask(P          R  "
     ]
    },
    {
     "name": "stdout",
     "output_type": "stream",
     "text": [
      "                   all          2        112          0          0          0          0          0          0          0          0\n"
     ]
    },
    {
     "name": "stderr",
     "output_type": "stream",
     "text": [
      "\n"
     ]
    },
    {
     "name": "stdout",
     "output_type": "stream",
     "text": [
      "\n",
      "      Epoch    GPU_mem   box_loss   seg_loss   cls_loss   dfl_loss  Instances       Size\n"
     ]
    },
    {
     "name": "stderr",
     "output_type": "stream",
     "text": [
      "      8/100       3.7G      3.785      4.695      4.676      2.601        562        640: 100%|██████████| 1/1 [\n",
      "                 Class     Images  Instances      Box(P          R      mAP50  mAP50-95)     Mask(P          R  "
     ]
    },
    {
     "name": "stdout",
     "output_type": "stream",
     "text": [
      "                   all          2        112          0          0          0          0          0          0          0          0\n"
     ]
    },
    {
     "name": "stderr",
     "output_type": "stream",
     "text": [
      "\n"
     ]
    },
    {
     "name": "stdout",
     "output_type": "stream",
     "text": [
      "\n",
      "      Epoch    GPU_mem   box_loss   seg_loss   cls_loss   dfl_loss  Instances       Size\n"
     ]
    },
    {
     "name": "stderr",
     "output_type": "stream",
     "text": [
      "      9/100      3.71G      3.692      4.248       4.61      2.486        793        640: 100%|██████████| 1/1 [\n",
      "                 Class     Images  Instances      Box(P          R      mAP50  mAP50-95)     Mask(P          R  \n"
     ]
    },
    {
     "name": "stdout",
     "output_type": "stream",
     "text": [
      "                   all          2        112          0          0          0          0          0          0          0          0\n",
      "\n",
      "      Epoch    GPU_mem   box_loss   seg_loss   cls_loss   dfl_loss  Instances       Size\n"
     ]
    },
    {
     "name": "stderr",
     "output_type": "stream",
     "text": [
      "     10/100      3.73G      3.775      4.039      4.649      2.359        556        640: 100%|██████████| 1/1 [\n",
      "                 Class     Images  Instances      Box(P          R      mAP50  mAP50-95)     Mask(P          R  "
     ]
    },
    {
     "name": "stdout",
     "output_type": "stream",
     "text": [
      "                   all          2        112          0          0          0          0          0          0          0          0\n"
     ]
    },
    {
     "name": "stderr",
     "output_type": "stream",
     "text": [
      "\n"
     ]
    },
    {
     "name": "stdout",
     "output_type": "stream",
     "text": [
      "\n",
      "      Epoch    GPU_mem   box_loss   seg_loss   cls_loss   dfl_loss  Instances       Size\n"
     ]
    },
    {
     "name": "stderr",
     "output_type": "stream",
     "text": [
      "     11/100      3.75G      3.627       4.09      4.635      2.253        652        640: 100%|██████████| 1/1 [\n",
      "                 Class     Images  Instances      Box(P          R      mAP50  mAP50-95)     Mask(P          R  "
     ]
    },
    {
     "name": "stdout",
     "output_type": "stream",
     "text": [
      "                   all          2        112          0          0          0          0          0          0          0          0\n"
     ]
    },
    {
     "name": "stderr",
     "output_type": "stream",
     "text": [
      "\n"
     ]
    },
    {
     "name": "stdout",
     "output_type": "stream",
     "text": [
      "\n",
      "      Epoch    GPU_mem   box_loss   seg_loss   cls_loss   dfl_loss  Instances       Size\n"
     ]
    },
    {
     "name": "stderr",
     "output_type": "stream",
     "text": [
      "     12/100      3.76G      3.369      3.817      4.584      2.222        579        640: 100%|██████████| 1/1 [\n",
      "                 Class     Images  Instances      Box(P          R      mAP50  mAP50-95)     Mask(P          R  "
     ]
    },
    {
     "name": "stdout",
     "output_type": "stream",
     "text": [
      "                   all          2        112          0          0          0          0          0          0          0          0\n"
     ]
    },
    {
     "name": "stderr",
     "output_type": "stream",
     "text": [
      "\n"
     ]
    },
    {
     "name": "stdout",
     "output_type": "stream",
     "text": [
      "\n",
      "      Epoch    GPU_mem   box_loss   seg_loss   cls_loss   dfl_loss  Instances       Size\n"
     ]
    },
    {
     "name": "stderr",
     "output_type": "stream",
     "text": [
      "     13/100      3.78G      3.553      4.069      4.586      2.079        740        640: 100%|██████████| 1/1 [\n",
      "                 Class     Images  Instances      Box(P          R      mAP50  mAP50-95)     Mask(P          R  "
     ]
    },
    {
     "name": "stdout",
     "output_type": "stream",
     "text": [
      "                   all          2        112          0          0          0          0          0          0          0          0\n"
     ]
    },
    {
     "name": "stderr",
     "output_type": "stream",
     "text": [
      "\n"
     ]
    },
    {
     "name": "stdout",
     "output_type": "stream",
     "text": [
      "\n",
      "      Epoch    GPU_mem   box_loss   seg_loss   cls_loss   dfl_loss  Instances       Size\n"
     ]
    },
    {
     "name": "stderr",
     "output_type": "stream",
     "text": [
      "     14/100      3.79G      3.427      3.715      4.564      2.066        855        640: 100%|██████████| 1/1 [\n",
      "                 Class     Images  Instances      Box(P          R      mAP50  mAP50-95)     Mask(P          R  "
     ]
    },
    {
     "name": "stdout",
     "output_type": "stream",
     "text": [
      "                   all          2        112          0          0          0          0          0          0          0          0\n"
     ]
    },
    {
     "name": "stderr",
     "output_type": "stream",
     "text": [
      "\n"
     ]
    },
    {
     "name": "stdout",
     "output_type": "stream",
     "text": [
      "\n",
      "      Epoch    GPU_mem   box_loss   seg_loss   cls_loss   dfl_loss  Instances       Size\n"
     ]
    },
    {
     "name": "stderr",
     "output_type": "stream",
     "text": [
      "     15/100      3.81G      3.016      3.535      4.492      2.037        599        640: 100%|██████████| 1/1 [\n",
      "                 Class     Images  Instances      Box(P          R      mAP50  mAP50-95)     Mask(P          R  "
     ]
    },
    {
     "name": "stdout",
     "output_type": "stream",
     "text": [
      "                   all          2        112          0          0          0          0          0          0          0          0\n"
     ]
    },
    {
     "name": "stderr",
     "output_type": "stream",
     "text": [
      "\n"
     ]
    },
    {
     "name": "stdout",
     "output_type": "stream",
     "text": [
      "\n",
      "      Epoch    GPU_mem   box_loss   seg_loss   cls_loss   dfl_loss  Instances       Size\n"
     ]
    },
    {
     "name": "stderr",
     "output_type": "stream",
     "text": [
      "     16/100      3.83G      3.257      3.713      4.483      1.992        881        640: 100%|██████████| 1/1 [\n",
      "                 Class     Images  Instances      Box(P          R      mAP50  mAP50-95)     Mask(P          R  "
     ]
    },
    {
     "name": "stdout",
     "output_type": "stream",
     "text": [
      "                   all          2        112          0          0          0          0          0          0          0          0\n"
     ]
    },
    {
     "name": "stderr",
     "output_type": "stream",
     "text": [
      "\n"
     ]
    },
    {
     "name": "stdout",
     "output_type": "stream",
     "text": [
      "\n",
      "      Epoch    GPU_mem   box_loss   seg_loss   cls_loss   dfl_loss  Instances       Size\n"
     ]
    },
    {
     "name": "stderr",
     "output_type": "stream",
     "text": [
      "     17/100      3.85G       3.09      3.649      4.474       1.79        594        640: 100%|██████████| 1/1 [\n",
      "                 Class     Images  Instances      Box(P          R      mAP50  mAP50-95)     Mask(P          R  "
     ]
    },
    {
     "name": "stdout",
     "output_type": "stream",
     "text": [
      "                   all          2        112          0          0          0          0          0          0          0          0\n"
     ]
    },
    {
     "name": "stderr",
     "output_type": "stream",
     "text": [
      "\n"
     ]
    },
    {
     "name": "stdout",
     "output_type": "stream",
     "text": [
      "\n",
      "      Epoch    GPU_mem   box_loss   seg_loss   cls_loss   dfl_loss  Instances       Size\n"
     ]
    },
    {
     "name": "stderr",
     "output_type": "stream",
     "text": [
      "     18/100      3.86G      2.875       3.52      4.447      1.761        735        640: 100%|██████████| 1/1 [\n",
      "                 Class     Images  Instances      Box(P          R      mAP50  mAP50-95)     Mask(P          R  "
     ]
    },
    {
     "name": "stdout",
     "output_type": "stream",
     "text": [
      "                   all          2        112          0          0          0          0          0          0          0          0\n"
     ]
    },
    {
     "name": "stderr",
     "output_type": "stream",
     "text": [
      "\n"
     ]
    },
    {
     "name": "stdout",
     "output_type": "stream",
     "text": [
      "\n",
      "      Epoch    GPU_mem   box_loss   seg_loss   cls_loss   dfl_loss  Instances       Size\n"
     ]
    },
    {
     "name": "stderr",
     "output_type": "stream",
     "text": [
      "     19/100      3.89G      3.118      3.456      4.489      1.775        548        640: 100%|██████████| 1/1 [\n",
      "                 Class     Images  Instances      Box(P          R      mAP50  mAP50-95)     Mask(P          R  "
     ]
    },
    {
     "name": "stdout",
     "output_type": "stream",
     "text": [
      "                   all          2        112          0          0          0          0          0          0          0          0\n"
     ]
    },
    {
     "name": "stderr",
     "output_type": "stream",
     "text": [
      "\n"
     ]
    },
    {
     "name": "stdout",
     "output_type": "stream",
     "text": [
      "\n",
      "      Epoch    GPU_mem   box_loss   seg_loss   cls_loss   dfl_loss  Instances       Size\n"
     ]
    },
    {
     "name": "stderr",
     "output_type": "stream",
     "text": [
      "     20/100      3.89G      3.124       3.52      4.427      1.746       1051        640: 100%|██████████| 1/1 [\n",
      "                 Class     Images  Instances      Box(P          R      mAP50  mAP50-95)     Mask(P          R  "
     ]
    },
    {
     "name": "stdout",
     "output_type": "stream",
     "text": [
      "                   all          2        112          0          0          0          0          0          0          0          0\n"
     ]
    },
    {
     "name": "stderr",
     "output_type": "stream",
     "text": [
      "\n"
     ]
    },
    {
     "name": "stdout",
     "output_type": "stream",
     "text": [
      "\n",
      "      Epoch    GPU_mem   box_loss   seg_loss   cls_loss   dfl_loss  Instances       Size\n"
     ]
    },
    {
     "name": "stderr",
     "output_type": "stream",
     "text": [
      "     21/100      3.92G      3.135      3.711      4.416      1.874        636        640: 100%|██████████| 1/1 [\n",
      "                 Class     Images  Instances      Box(P          R      mAP50  mAP50-95)     Mask(P          R  "
     ]
    },
    {
     "name": "stdout",
     "output_type": "stream",
     "text": [
      "                   all          2        112          0          0          0          0          0          0          0          0\n"
     ]
    },
    {
     "name": "stderr",
     "output_type": "stream",
     "text": [
      "\n"
     ]
    },
    {
     "name": "stdout",
     "output_type": "stream",
     "text": [
      "\n",
      "      Epoch    GPU_mem   box_loss   seg_loss   cls_loss   dfl_loss  Instances       Size\n"
     ]
    },
    {
     "name": "stderr",
     "output_type": "stream",
     "text": [
      "     22/100      3.93G       2.98      3.409      4.386      1.756        771        640: 100%|██████████| 1/1 [\n",
      "                 Class     Images  Instances      Box(P          R      mAP50  mAP50-95)     Mask(P          R  "
     ]
    },
    {
     "name": "stdout",
     "output_type": "stream",
     "text": [
      "                   all          2        112          0          0          0          0          0          0          0          0\n"
     ]
    },
    {
     "name": "stderr",
     "output_type": "stream",
     "text": [
      "\n"
     ]
    },
    {
     "name": "stdout",
     "output_type": "stream",
     "text": [
      "\n",
      "      Epoch    GPU_mem   box_loss   seg_loss   cls_loss   dfl_loss  Instances       Size\n"
     ]
    },
    {
     "name": "stderr",
     "output_type": "stream",
     "text": [
      "     23/100      3.95G      3.032       3.25      4.395      1.762        606        640: 100%|██████████| 1/1 [\n",
      "                 Class     Images  Instances      Box(P          R      mAP50  mAP50-95)     Mask(P          R  "
     ]
    },
    {
     "name": "stdout",
     "output_type": "stream",
     "text": [
      "                   all          2        112    0.00244    0.00472    0.00123   0.000123    0.00244    0.00472    0.00123   0.000247\n"
     ]
    },
    {
     "name": "stderr",
     "output_type": "stream",
     "text": [
      "\n"
     ]
    },
    {
     "name": "stdout",
     "output_type": "stream",
     "text": [
      "\n",
      "      Epoch    GPU_mem   box_loss   seg_loss   cls_loss   dfl_loss  Instances       Size\n"
     ]
    },
    {
     "name": "stderr",
     "output_type": "stream",
     "text": [
      "     24/100      3.96G      3.075      3.488      4.367      1.542        584        640: 100%|██████████| 1/1 [\n",
      "                 Class     Images  Instances      Box(P          R      mAP50  mAP50-95)     Mask(P          R  "
     ]
    },
    {
     "name": "stdout",
     "output_type": "stream",
     "text": [
      "                   all          2        112    0.00244    0.00472    0.00123   0.000123    0.00244    0.00472    0.00123   0.000247\n"
     ]
    },
    {
     "name": "stderr",
     "output_type": "stream",
     "text": [
      "\n"
     ]
    },
    {
     "name": "stdout",
     "output_type": "stream",
     "text": [
      "\n",
      "      Epoch    GPU_mem   box_loss   seg_loss   cls_loss   dfl_loss  Instances       Size\n"
     ]
    },
    {
     "name": "stderr",
     "output_type": "stream",
     "text": [
      "     25/100      3.98G      2.935      3.533      4.316      1.772        836        640: 100%|██████████| 1/1 [\n",
      "                 Class     Images  Instances      Box(P          R      mAP50  mAP50-95)     Mask(P          R  "
     ]
    },
    {
     "name": "stdout",
     "output_type": "stream",
     "text": [
      "                   all          2        112          0          0          0          0          0          0          0          0\n"
     ]
    },
    {
     "name": "stderr",
     "output_type": "stream",
     "text": [
      "\n"
     ]
    },
    {
     "name": "stdout",
     "output_type": "stream",
     "text": [
      "\n",
      "      Epoch    GPU_mem   box_loss   seg_loss   cls_loss   dfl_loss  Instances       Size\n"
     ]
    },
    {
     "name": "stderr",
     "output_type": "stream",
     "text": [
      "     26/100      3.99G      3.044      3.442      4.283      1.595        812        640: 100%|██████████| 1/1 [\n",
      "                 Class     Images  Instances      Box(P          R      mAP50  mAP50-95)     Mask(P          R  "
     ]
    },
    {
     "name": "stdout",
     "output_type": "stream",
     "text": [
      "                   all          2        112          0          0          0          0          0          0          0          0\n"
     ]
    },
    {
     "name": "stderr",
     "output_type": "stream",
     "text": [
      "\n"
     ]
    },
    {
     "name": "stdout",
     "output_type": "stream",
     "text": [
      "\n",
      "      Epoch    GPU_mem   box_loss   seg_loss   cls_loss   dfl_loss  Instances       Size\n"
     ]
    },
    {
     "name": "stderr",
     "output_type": "stream",
     "text": [
      "     27/100      4.02G      3.226      3.524      4.335      1.663        875        640: 100%|██████████| 1/1 [\n",
      "                 Class     Images  Instances      Box(P          R      mAP50  mAP50-95)     Mask(P          R  "
     ]
    },
    {
     "name": "stdout",
     "output_type": "stream",
     "text": [
      "                   all          2        112          0          0          0          0          0          0          0          0\n"
     ]
    },
    {
     "name": "stderr",
     "output_type": "stream",
     "text": [
      "\n"
     ]
    },
    {
     "name": "stdout",
     "output_type": "stream",
     "text": [
      "\n",
      "      Epoch    GPU_mem   box_loss   seg_loss   cls_loss   dfl_loss  Instances       Size\n"
     ]
    },
    {
     "name": "stderr",
     "output_type": "stream",
     "text": [
      "     28/100      4.03G      2.898       3.13       4.15       1.59        455        640: 100%|██████████| 1/1 [\n",
      "                 Class     Images  Instances      Box(P          R      mAP50  mAP50-95)     Mask(P          R  "
     ]
    },
    {
     "name": "stdout",
     "output_type": "stream",
     "text": [
      "                   all          2        112          0          0          0          0          0          0          0          0\n"
     ]
    },
    {
     "name": "stderr",
     "output_type": "stream",
     "text": [
      "\n"
     ]
    },
    {
     "name": "stdout",
     "output_type": "stream",
     "text": [
      "\n",
      "      Epoch    GPU_mem   box_loss   seg_loss   cls_loss   dfl_loss  Instances       Size\n"
     ]
    },
    {
     "name": "stderr",
     "output_type": "stream",
     "text": [
      "     29/100      4.05G      3.056      3.507       4.23      1.596        711        640: 100%|██████████| 1/1 [\n",
      "                 Class     Images  Instances      Box(P          R      mAP50  mAP50-95)     Mask(P          R  \n"
     ]
    },
    {
     "name": "stdout",
     "output_type": "stream",
     "text": [
      "                   all          2        112    0.00431    0.00943    0.00226   0.000453    0.00216    0.00472    0.00111   0.000222\n",
      "\n",
      "      Epoch    GPU_mem   box_loss   seg_loss   cls_loss   dfl_loss  Instances       Size\n"
     ]
    },
    {
     "name": "stderr",
     "output_type": "stream",
     "text": [
      "     30/100      4.05G       2.97      3.657      4.162      1.665        694        640: 100%|██████████| 1/1 [\n",
      "                 Class     Images  Instances      Box(P          R      mAP50  mAP50-95)     Mask(P          R  "
     ]
    },
    {
     "name": "stdout",
     "output_type": "stream",
     "text": [
      "                   all          2        112    0.00431    0.00943    0.00226   0.000453    0.00216    0.00472    0.00111   0.000222\n"
     ]
    },
    {
     "name": "stderr",
     "output_type": "stream",
     "text": [
      "\n"
     ]
    },
    {
     "name": "stdout",
     "output_type": "stream",
     "text": [
      "\n",
      "      Epoch    GPU_mem   box_loss   seg_loss   cls_loss   dfl_loss  Instances       Size\n"
     ]
    },
    {
     "name": "stderr",
     "output_type": "stream",
     "text": [
      "     31/100      4.43G      2.854      3.259      4.157      1.542        810        640: 100%|██████████| 1/1 [\n",
      "                 Class     Images  Instances      Box(P          R      mAP50  mAP50-95)     Mask(P          R  "
     ]
    },
    {
     "name": "stdout",
     "output_type": "stream",
     "text": [
      "                   all          2        112    0.00853     0.0236    0.00477    0.00194    0.00512     0.0142    0.00272    0.00118\n"
     ]
    },
    {
     "name": "stderr",
     "output_type": "stream",
     "text": [
      "\n"
     ]
    },
    {
     "name": "stdout",
     "output_type": "stream",
     "text": [
      "\n",
      "      Epoch    GPU_mem   box_loss   seg_loss   cls_loss   dfl_loss  Instances       Size\n"
     ]
    },
    {
     "name": "stderr",
     "output_type": "stream",
     "text": [
      "     32/100      4.44G      2.743       3.05      4.089      1.542        639        640: 100%|██████████| 1/1 [\n",
      "                 Class     Images  Instances      Box(P          R      mAP50  mAP50-95)     Mask(P          R  "
     ]
    },
    {
     "name": "stdout",
     "output_type": "stream",
     "text": [
      "                   all          2        112    0.00853     0.0236    0.00477    0.00194    0.00512     0.0142    0.00272    0.00118\n"
     ]
    },
    {
     "name": "stderr",
     "output_type": "stream",
     "text": [
      "\n"
     ]
    },
    {
     "name": "stdout",
     "output_type": "stream",
     "text": [
      "\n",
      "      Epoch    GPU_mem   box_loss   seg_loss   cls_loss   dfl_loss  Instances       Size\n"
     ]
    },
    {
     "name": "stderr",
     "output_type": "stream",
     "text": [
      "     33/100      4.47G      2.811      3.288      4.014      1.468        596        640: 100%|██████████| 1/1 [\n",
      "                 Class     Images  Instances      Box(P          R      mAP50  mAP50-95)     Mask(P          R  "
     ]
    },
    {
     "name": "stdout",
     "output_type": "stream",
     "text": [
      "                   all          2        112     0.0159     0.0472    0.00993    0.00238    0.00955     0.0283    0.00577    0.00131\n"
     ]
    },
    {
     "name": "stderr",
     "output_type": "stream",
     "text": [
      "\n"
     ]
    },
    {
     "name": "stdout",
     "output_type": "stream",
     "text": [
      "\n",
      "      Epoch    GPU_mem   box_loss   seg_loss   cls_loss   dfl_loss  Instances       Size\n"
     ]
    },
    {
     "name": "stderr",
     "output_type": "stream",
     "text": [
      "     34/100      4.47G      2.877      3.327          4      1.461        882        640: 100%|██████████| 1/1 [\n",
      "                 Class     Images  Instances      Box(P          R      mAP50  mAP50-95)     Mask(P          R  "
     ]
    },
    {
     "name": "stdout",
     "output_type": "stream",
     "text": [
      "                   all          2        112     0.0159     0.0472    0.00993    0.00238    0.00955     0.0283    0.00577    0.00131\n"
     ]
    },
    {
     "name": "stderr",
     "output_type": "stream",
     "text": [
      "\n"
     ]
    },
    {
     "name": "stdout",
     "output_type": "stream",
     "text": [
      "\n",
      "      Epoch    GPU_mem   box_loss   seg_loss   cls_loss   dfl_loss  Instances       Size\n"
     ]
    },
    {
     "name": "stderr",
     "output_type": "stream",
     "text": [
      "     35/100       4.5G      2.585      3.147       3.99      1.416        551        640: 100%|██████████| 1/1 [\n",
      "                 Class     Images  Instances      Box(P          R      mAP50  mAP50-95)     Mask(P          R  \n"
     ]
    },
    {
     "name": "stdout",
     "output_type": "stream",
     "text": [
      "                   all          2        112     0.0154     0.0472     0.0105    0.00287     0.0154     0.0472     0.0113    0.00173\n",
      "\n",
      "      Epoch    GPU_mem   box_loss   seg_loss   cls_loss   dfl_loss  Instances       Size\n"
     ]
    },
    {
     "name": "stderr",
     "output_type": "stream",
     "text": [
      "     36/100      4.51G      2.738      3.131      4.001      1.408       1123        640: 100%|██████████| 1/1 [\n",
      "                 Class     Images  Instances      Box(P          R      mAP50  mAP50-95)     Mask(P          R  "
     ]
    },
    {
     "name": "stdout",
     "output_type": "stream",
     "text": [
      "                   all          2        112     0.0154     0.0472     0.0105    0.00287     0.0154     0.0472     0.0113    0.00173\n"
     ]
    },
    {
     "name": "stderr",
     "output_type": "stream",
     "text": [
      "\n"
     ]
    },
    {
     "name": "stdout",
     "output_type": "stream",
     "text": [
      "\n",
      "      Epoch    GPU_mem   box_loss   seg_loss   cls_loss   dfl_loss  Instances       Size\n"
     ]
    },
    {
     "name": "stderr",
     "output_type": "stream",
     "text": [
      "     37/100      4.53G      2.555      3.063      3.906        1.4        632        640: 100%|██████████| 1/1 [\n",
      "                 Class     Images  Instances      Box(P          R      mAP50  mAP50-95)     Mask(P          R  \n"
     ]
    },
    {
     "name": "stdout",
     "output_type": "stream",
     "text": [
      "                   all          2        112     0.0191     0.0613     0.0157    0.00329     0.0221     0.0708     0.0197    0.00322\n",
      "\n",
      "      Epoch    GPU_mem   box_loss   seg_loss   cls_loss   dfl_loss  Instances       Size\n"
     ]
    },
    {
     "name": "stderr",
     "output_type": "stream",
     "text": [
      "     38/100      4.54G      2.471      3.037      3.804      1.344        539        640: 100%|██████████| 1/1 [\n",
      "                 Class     Images  Instances      Box(P          R      mAP50  mAP50-95)     Mask(P          R  "
     ]
    },
    {
     "name": "stdout",
     "output_type": "stream",
     "text": [
      "                   all          2        112     0.0191     0.0613     0.0157    0.00329     0.0221     0.0708     0.0197    0.00322\n"
     ]
    },
    {
     "name": "stderr",
     "output_type": "stream",
     "text": [
      "\n"
     ]
    },
    {
     "name": "stdout",
     "output_type": "stream",
     "text": [
      "\n",
      "      Epoch    GPU_mem   box_loss   seg_loss   cls_loss   dfl_loss  Instances       Size\n"
     ]
    },
    {
     "name": "stderr",
     "output_type": "stream",
     "text": [
      "     39/100      4.56G        2.7      3.102      3.886      1.384        883        640: 100%|██████████| 1/1 [\n",
      "                 Class     Images  Instances      Box(P          R      mAP50  mAP50-95)     Mask(P          R  "
     ]
    },
    {
     "name": "stdout",
     "output_type": "stream",
     "text": [
      "                   all          2        112     0.0251     0.0849      0.026    0.00535      0.032      0.108     0.0362    0.00715\n"
     ]
    },
    {
     "name": "stderr",
     "output_type": "stream",
     "text": [
      "\n"
     ]
    },
    {
     "name": "stdout",
     "output_type": "stream",
     "text": [
      "\n",
      "      Epoch    GPU_mem   box_loss   seg_loss   cls_loss   dfl_loss  Instances       Size\n"
     ]
    },
    {
     "name": "stderr",
     "output_type": "stream",
     "text": [
      "     40/100      4.57G      2.597      3.144      3.782      1.345        766        640: 100%|██████████| 1/1 [\n",
      "                 Class     Images  Instances      Box(P          R      mAP50  mAP50-95)     Mask(P          R  "
     ]
    },
    {
     "name": "stdout",
     "output_type": "stream",
     "text": [
      "                   all          2        112     0.0251     0.0849      0.026    0.00535      0.032      0.108     0.0362    0.00715\n"
     ]
    },
    {
     "name": "stderr",
     "output_type": "stream",
     "text": [
      "\n"
     ]
    },
    {
     "name": "stdout",
     "output_type": "stream",
     "text": [
      "\n",
      "      Epoch    GPU_mem   box_loss   seg_loss   cls_loss   dfl_loss  Instances       Size\n"
     ]
    },
    {
     "name": "stderr",
     "output_type": "stream",
     "text": [
      "     41/100       4.6G      2.719      3.076       3.67      1.421        425        640: 100%|██████████| 1/1 [\n",
      "                 Class     Images  Instances      Box(P          R      mAP50  mAP50-95)     Mask(P          R  "
     ]
    },
    {
     "name": "stdout",
     "output_type": "stream",
     "text": [
      "                   all          2        112     0.0209     0.0755     0.0171    0.00427     0.0223     0.0802     0.0218     0.0047\n"
     ]
    },
    {
     "name": "stderr",
     "output_type": "stream",
     "text": [
      "\n"
     ]
    },
    {
     "name": "stdout",
     "output_type": "stream",
     "text": [
      "\n",
      "      Epoch    GPU_mem   box_loss   seg_loss   cls_loss   dfl_loss  Instances       Size\n"
     ]
    },
    {
     "name": "stderr",
     "output_type": "stream",
     "text": [
      "     42/100       4.6G      2.552      3.151      3.708      1.312        877        640: 100%|██████████| 1/1 [\n",
      "                 Class     Images  Instances      Box(P          R      mAP50  mAP50-95)     Mask(P          R  "
     ]
    },
    {
     "name": "stdout",
     "output_type": "stream",
     "text": [
      "                   all          2        112     0.0209     0.0755     0.0171    0.00427     0.0223     0.0802     0.0218     0.0047\n"
     ]
    },
    {
     "name": "stderr",
     "output_type": "stream",
     "text": [
      "\n"
     ]
    },
    {
     "name": "stdout",
     "output_type": "stream",
     "text": [
      "\n",
      "      Epoch    GPU_mem   box_loss   seg_loss   cls_loss   dfl_loss  Instances       Size\n"
     ]
    },
    {
     "name": "stderr",
     "output_type": "stream",
     "text": [
      "     43/100      4.63G      2.967      3.393      3.738      1.565        376        640: 100%|██████████| 1/1 [\n",
      "                 Class     Images  Instances      Box(P          R      mAP50  mAP50-95)     Mask(P          R  "
     ]
    },
    {
     "name": "stdout",
     "output_type": "stream",
     "text": [
      "                   all          2        112     0.0217     0.0802     0.0227    0.00555     0.0217     0.0802     0.0197    0.00467\n"
     ]
    },
    {
     "name": "stderr",
     "output_type": "stream",
     "text": [
      "\n"
     ]
    },
    {
     "name": "stdout",
     "output_type": "stream",
     "text": [
      "\n",
      "      Epoch    GPU_mem   box_loss   seg_loss   cls_loss   dfl_loss  Instances       Size\n"
     ]
    },
    {
     "name": "stderr",
     "output_type": "stream",
     "text": [
      "     44/100      4.63G       2.67      3.234      3.616      1.492        554        640: 100%|██████████| 1/1 [\n",
      "                 Class     Images  Instances      Box(P          R      mAP50  mAP50-95)     Mask(P          R  "
     ]
    },
    {
     "name": "stdout",
     "output_type": "stream",
     "text": [
      "                   all          2        112     0.0217     0.0802     0.0227    0.00555     0.0217     0.0802     0.0197    0.00467\n"
     ]
    },
    {
     "name": "stderr",
     "output_type": "stream",
     "text": [
      "\n"
     ]
    },
    {
     "name": "stdout",
     "output_type": "stream",
     "text": [
      "\n",
      "      Epoch    GPU_mem   box_loss   seg_loss   cls_loss   dfl_loss  Instances       Size\n"
     ]
    },
    {
     "name": "stderr",
     "output_type": "stream",
     "text": [
      "     45/100      4.66G      2.406      2.842      3.591      1.309        679        640: 100%|██████████| 1/1 [\n",
      "                 Class     Images  Instances      Box(P          R      mAP50  mAP50-95)     Mask(P          R  "
     ]
    },
    {
     "name": "stdout",
     "output_type": "stream",
     "text": [
      "                   all          2        112     0.0215     0.0802     0.0205    0.00558     0.0215     0.0802     0.0197    0.00469\n"
     ]
    },
    {
     "name": "stderr",
     "output_type": "stream",
     "text": [
      "\n"
     ]
    },
    {
     "name": "stdout",
     "output_type": "stream",
     "text": [
      "\n",
      "      Epoch    GPU_mem   box_loss   seg_loss   cls_loss   dfl_loss  Instances       Size\n"
     ]
    },
    {
     "name": "stderr",
     "output_type": "stream",
     "text": [
      "     46/100      4.67G      2.417      3.022      3.517      1.359        607        640: 100%|██████████| 1/1 [\n",
      "                 Class     Images  Instances      Box(P          R      mAP50  mAP50-95)     Mask(P          R  "
     ]
    },
    {
     "name": "stdout",
     "output_type": "stream",
     "text": [
      "                   all          2        112     0.0215     0.0802     0.0205    0.00558     0.0215     0.0802     0.0197    0.00469\n"
     ]
    },
    {
     "name": "stderr",
     "output_type": "stream",
     "text": [
      "\n"
     ]
    },
    {
     "name": "stdout",
     "output_type": "stream",
     "text": [
      "\n",
      "      Epoch    GPU_mem   box_loss   seg_loss   cls_loss   dfl_loss  Instances       Size\n"
     ]
    },
    {
     "name": "stderr",
     "output_type": "stream",
     "text": [
      "     47/100       4.7G      2.469      2.913      3.496       1.32        513        640: 100%|██████████| 1/1 [\n",
      "                 Class     Images  Instances      Box(P          R      mAP50  mAP50-95)     Mask(P          R  "
     ]
    },
    {
     "name": "stdout",
     "output_type": "stream",
     "text": [
      "                   all          2        112     0.0232     0.0896     0.0251    0.00688     0.0232     0.0896     0.0214    0.00577\n"
     ]
    },
    {
     "name": "stderr",
     "output_type": "stream",
     "text": [
      "\n"
     ]
    },
    {
     "name": "stdout",
     "output_type": "stream",
     "text": [
      "\n",
      "      Epoch    GPU_mem   box_loss   seg_loss   cls_loss   dfl_loss  Instances       Size\n"
     ]
    },
    {
     "name": "stderr",
     "output_type": "stream",
     "text": [
      "     48/100       4.7G      2.514      3.101      3.542      1.352        649        640: 100%|██████████| 1/1 [\n",
      "                 Class     Images  Instances      Box(P          R      mAP50  mAP50-95)     Mask(P          R  "
     ]
    },
    {
     "name": "stdout",
     "output_type": "stream",
     "text": [
      "                   all          2        112     0.0232     0.0896     0.0251    0.00688     0.0232     0.0896     0.0214    0.00577\n"
     ]
    },
    {
     "name": "stderr",
     "output_type": "stream",
     "text": [
      "\n"
     ]
    },
    {
     "name": "stdout",
     "output_type": "stream",
     "text": [
      "\n",
      "      Epoch    GPU_mem   box_loss   seg_loss   cls_loss   dfl_loss  Instances       Size\n"
     ]
    },
    {
     "name": "stderr",
     "output_type": "stream",
     "text": [
      "     49/100      4.72G      2.427      3.027      3.617      1.356        716        640: 100%|██████████| 1/1 [\n",
      "                 Class     Images  Instances      Box(P          R      mAP50  mAP50-95)     Mask(P          R  "
     ]
    },
    {
     "name": "stdout",
     "output_type": "stream",
     "text": [
      "                   all          2        112     0.0264      0.104     0.0337       0.01     0.0252     0.0991     0.0314    0.00921\n"
     ]
    },
    {
     "name": "stderr",
     "output_type": "stream",
     "text": [
      "\n"
     ]
    },
    {
     "name": "stdout",
     "output_type": "stream",
     "text": [
      "\n",
      "      Epoch    GPU_mem   box_loss   seg_loss   cls_loss   dfl_loss  Instances       Size\n"
     ]
    },
    {
     "name": "stderr",
     "output_type": "stream",
     "text": [
      "     50/100      4.73G      2.494      3.112       3.61      1.312        910        640: 100%|██████████| 1/1 [\n",
      "                 Class     Images  Instances      Box(P          R      mAP50  mAP50-95)     Mask(P          R  "
     ]
    },
    {
     "name": "stdout",
     "output_type": "stream",
     "text": [
      "                   all          2        112     0.0264      0.104     0.0337       0.01     0.0252     0.0991     0.0314    0.00921\n"
     ]
    },
    {
     "name": "stderr",
     "output_type": "stream",
     "text": [
      "\n"
     ]
    },
    {
     "name": "stdout",
     "output_type": "stream",
     "text": [
      "\n",
      "      Epoch    GPU_mem   box_loss   seg_loss   cls_loss   dfl_loss  Instances       Size\n"
     ]
    },
    {
     "name": "stderr",
     "output_type": "stream",
     "text": [
      "     51/100      4.76G       2.46      3.184      3.397      1.331        528        640: 100%|██████████| 1/1 [\n",
      "                 Class     Images  Instances      Box(P          R      mAP50  mAP50-95)     Mask(P          R  "
     ]
    },
    {
     "name": "stdout",
     "output_type": "stream",
     "text": [
      "                   all          2        112     0.0244     0.0991     0.0375     0.0131     0.0233     0.0943     0.0363     0.0127\n"
     ]
    },
    {
     "name": "stderr",
     "output_type": "stream",
     "text": [
      "\n"
     ]
    },
    {
     "name": "stdout",
     "output_type": "stream",
     "text": [
      "\n",
      "      Epoch    GPU_mem   box_loss   seg_loss   cls_loss   dfl_loss  Instances       Size\n"
     ]
    },
    {
     "name": "stderr",
     "output_type": "stream",
     "text": [
      "     52/100      4.76G       2.42      2.977      3.475      1.326        720        640: 100%|██████████| 1/1 [\n",
      "                 Class     Images  Instances      Box(P          R      mAP50  mAP50-95)     Mask(P          R  "
     ]
    },
    {
     "name": "stdout",
     "output_type": "stream",
     "text": [
      "                   all          2        112     0.0244     0.0991     0.0375     0.0131     0.0233     0.0943     0.0363     0.0127\n"
     ]
    },
    {
     "name": "stderr",
     "output_type": "stream",
     "text": [
      "\n"
     ]
    },
    {
     "name": "stdout",
     "output_type": "stream",
     "text": [
      "\n",
      "      Epoch    GPU_mem   box_loss   seg_loss   cls_loss   dfl_loss  Instances       Size\n"
     ]
    },
    {
     "name": "stderr",
     "output_type": "stream",
     "text": [
      "     53/100      4.79G      2.326      2.908       3.42      1.258        747        640: 100%|██████████| 1/1 [\n",
      "                 Class     Images  Instances      Box(P          R      mAP50  mAP50-95)     Mask(P          R  "
     ]
    },
    {
     "name": "stdout",
     "output_type": "stream",
     "text": [
      "                   all          2        112     0.0244     0.0991     0.0375     0.0131     0.0233     0.0943     0.0363     0.0127\n"
     ]
    },
    {
     "name": "stderr",
     "output_type": "stream",
     "text": [
      "\n"
     ]
    },
    {
     "name": "stdout",
     "output_type": "stream",
     "text": [
      "\n",
      "      Epoch    GPU_mem   box_loss   seg_loss   cls_loss   dfl_loss  Instances       Size\n"
     ]
    },
    {
     "name": "stderr",
     "output_type": "stream",
     "text": [
      "     54/100      4.81G      2.309      2.977      3.378      1.267        630        640: 100%|██████████| 1/1 [\n",
      "                 Class     Images  Instances      Box(P          R      mAP50  mAP50-95)     Mask(P          R  "
     ]
    },
    {
     "name": "stdout",
     "output_type": "stream",
     "text": [
      "                   all          2        112     0.0309      0.127     0.0544     0.0169     0.0275      0.113     0.0428     0.0106\n"
     ]
    },
    {
     "name": "stderr",
     "output_type": "stream",
     "text": [
      "\n"
     ]
    },
    {
     "name": "stdout",
     "output_type": "stream",
     "text": [
      "\n",
      "      Epoch    GPU_mem   box_loss   seg_loss   cls_loss   dfl_loss  Instances       Size\n"
     ]
    },
    {
     "name": "stderr",
     "output_type": "stream",
     "text": [
      "     55/100      4.81G      2.602      2.982      3.332      1.261        617        640: 100%|██████████| 1/1 [\n",
      "                 Class     Images  Instances      Box(P          R      mAP50  mAP50-95)     Mask(P          R  "
     ]
    },
    {
     "name": "stdout",
     "output_type": "stream",
     "text": [
      "                   all          2        112     0.0309      0.127     0.0544     0.0169     0.0275      0.113     0.0428     0.0106\n"
     ]
    },
    {
     "name": "stderr",
     "output_type": "stream",
     "text": [
      "\n"
     ]
    },
    {
     "name": "stdout",
     "output_type": "stream",
     "text": [
      "\n",
      "      Epoch    GPU_mem   box_loss   seg_loss   cls_loss   dfl_loss  Instances       Size\n"
     ]
    },
    {
     "name": "stderr",
     "output_type": "stream",
     "text": [
      "     56/100      4.84G      2.401      2.899      3.425      1.263        682        640: 100%|██████████| 1/1 [\n",
      "                 Class     Images  Instances      Box(P          R      mAP50  mAP50-95)     Mask(P          R  "
     ]
    },
    {
     "name": "stdout",
     "output_type": "stream",
     "text": [
      "                   all          2        112     0.0309      0.127     0.0544     0.0169     0.0275      0.113     0.0428     0.0106\n"
     ]
    },
    {
     "name": "stderr",
     "output_type": "stream",
     "text": [
      "\n"
     ]
    },
    {
     "name": "stdout",
     "output_type": "stream",
     "text": [
      "\n",
      "      Epoch    GPU_mem   box_loss   seg_loss   cls_loss   dfl_loss  Instances       Size\n"
     ]
    },
    {
     "name": "stderr",
     "output_type": "stream",
     "text": [
      "     57/100      4.86G      2.378      3.004       3.34      1.259        754        640: 100%|██████████| 1/1 [\n",
      "                 Class     Images  Instances      Box(P          R      mAP50  mAP50-95)     Mask(P          R  "
     ]
    },
    {
     "name": "stdout",
     "output_type": "stream",
     "text": [
      "                   all          2        112     0.0335      0.142     0.0633     0.0186     0.0312      0.132     0.0491     0.0121\n"
     ]
    },
    {
     "name": "stderr",
     "output_type": "stream",
     "text": [
      "\n"
     ]
    },
    {
     "name": "stdout",
     "output_type": "stream",
     "text": [
      "\n",
      "      Epoch    GPU_mem   box_loss   seg_loss   cls_loss   dfl_loss  Instances       Size\n"
     ]
    },
    {
     "name": "stderr",
     "output_type": "stream",
     "text": [
      "     58/100      4.86G      2.481      2.822      3.248      1.345        685        640: 100%|██████████| 1/1 [\n",
      "                 Class     Images  Instances      Box(P          R      mAP50  mAP50-95)     Mask(P          R  "
     ]
    },
    {
     "name": "stdout",
     "output_type": "stream",
     "text": [
      "                   all          2        112     0.0335      0.142     0.0633     0.0186     0.0312      0.132     0.0491     0.0121\n"
     ]
    },
    {
     "name": "stderr",
     "output_type": "stream",
     "text": [
      "\n"
     ]
    },
    {
     "name": "stdout",
     "output_type": "stream",
     "text": [
      "\n",
      "      Epoch    GPU_mem   box_loss   seg_loss   cls_loss   dfl_loss  Instances       Size\n"
     ]
    },
    {
     "name": "stderr",
     "output_type": "stream",
     "text": [
      "     59/100      4.89G      2.508      2.888       3.27       1.33        523        640: 100%|██████████| 1/1 [\n",
      "                 Class     Images  Instances      Box(P          R      mAP50  mAP50-95)     Mask(P          R  "
     ]
    },
    {
     "name": "stdout",
     "output_type": "stream",
     "text": [
      "                   all          2        112     0.0335      0.142     0.0633     0.0186     0.0312      0.132     0.0491     0.0121\n"
     ]
    },
    {
     "name": "stderr",
     "output_type": "stream",
     "text": [
      "\n"
     ]
    },
    {
     "name": "stdout",
     "output_type": "stream",
     "text": [
      "\n",
      "      Epoch    GPU_mem   box_loss   seg_loss   cls_loss   dfl_loss  Instances       Size\n"
     ]
    },
    {
     "name": "stderr",
     "output_type": "stream",
     "text": [
      "     60/100       4.9G      2.394      2.994      3.354      1.252        761        640: 100%|██████████| 1/1 [\n",
      "                 Class     Images  Instances      Box(P          R      mAP50  mAP50-95)     Mask(P          R  "
     ]
    },
    {
     "name": "stdout",
     "output_type": "stream",
     "text": [
      "                   all          2        112      0.038      0.165     0.0701     0.0216     0.0325      0.142      0.052      0.013\n"
     ]
    },
    {
     "name": "stderr",
     "output_type": "stream",
     "text": [
      "\n"
     ]
    },
    {
     "name": "stdout",
     "output_type": "stream",
     "text": [
      "\n",
      "      Epoch    GPU_mem   box_loss   seg_loss   cls_loss   dfl_loss  Instances       Size\n"
     ]
    },
    {
     "name": "stderr",
     "output_type": "stream",
     "text": [
      "     61/100      4.91G      2.418      3.077      3.135      1.215        805        640: 100%|██████████| 1/1 [\n",
      "                 Class     Images  Instances      Box(P          R      mAP50  mAP50-95)     Mask(P          R  "
     ]
    },
    {
     "name": "stdout",
     "output_type": "stream",
     "text": [
      "                   all          2        112      0.038      0.165     0.0701     0.0216     0.0325      0.142      0.052      0.013\n"
     ]
    },
    {
     "name": "stderr",
     "output_type": "stream",
     "text": [
      "\n"
     ]
    },
    {
     "name": "stdout",
     "output_type": "stream",
     "text": [
      "\n",
      "      Epoch    GPU_mem   box_loss   seg_loss   cls_loss   dfl_loss  Instances       Size\n"
     ]
    },
    {
     "name": "stderr",
     "output_type": "stream",
     "text": [
      "     62/100      4.94G      2.491      3.207      3.098      1.277        436        640: 100%|██████████| 1/1 [\n",
      "                 Class     Images  Instances      Box(P          R      mAP50  mAP50-95)     Mask(P          R  "
     ]
    },
    {
     "name": "stdout",
     "output_type": "stream",
     "text": [
      "                   all          2        112      0.038      0.165     0.0701     0.0216     0.0325      0.142      0.052      0.013\n"
     ]
    },
    {
     "name": "stderr",
     "output_type": "stream",
     "text": [
      "\n"
     ]
    },
    {
     "name": "stdout",
     "output_type": "stream",
     "text": [
      "\n",
      "      Epoch    GPU_mem   box_loss   seg_loss   cls_loss   dfl_loss  Instances       Size\n"
     ]
    },
    {
     "name": "stderr",
     "output_type": "stream",
     "text": [
      "     63/100      4.95G      2.617      3.183      3.314      1.275       1185        640: 100%|██████████| 1/1 [\n",
      "                 Class     Images  Instances      Box(P          R      mAP50  mAP50-95)     Mask(P          R  "
     ]
    },
    {
     "name": "stdout",
     "output_type": "stream",
     "text": [
      "                   all          2        112      0.039       0.17      0.078     0.0245     0.0368       0.16     0.0587     0.0171\n"
     ]
    },
    {
     "name": "stderr",
     "output_type": "stream",
     "text": [
      "\n"
     ]
    },
    {
     "name": "stdout",
     "output_type": "stream",
     "text": [
      "\n",
      "      Epoch    GPU_mem   box_loss   seg_loss   cls_loss   dfl_loss  Instances       Size\n"
     ]
    },
    {
     "name": "stderr",
     "output_type": "stream",
     "text": [
      "     64/100      4.96G      2.551       2.83      3.124      1.353        366        640: 100%|██████████| 1/1 [\n",
      "                 Class     Images  Instances      Box(P          R      mAP50  mAP50-95)     Mask(P          R  "
     ]
    },
    {
     "name": "stdout",
     "output_type": "stream",
     "text": [
      "                   all          2        112      0.039       0.17      0.078     0.0245     0.0368       0.16     0.0587     0.0171\n"
     ]
    },
    {
     "name": "stderr",
     "output_type": "stream",
     "text": [
      "\n"
     ]
    },
    {
     "name": "stdout",
     "output_type": "stream",
     "text": [
      "\n",
      "      Epoch    GPU_mem   box_loss   seg_loss   cls_loss   dfl_loss  Instances       Size\n"
     ]
    },
    {
     "name": "stderr",
     "output_type": "stream",
     "text": [
      "     65/100      4.99G      2.322      2.909      3.146      1.272        580        640: 100%|██████████| 1/1 [\n",
      "                 Class     Images  Instances      Box(P          R      mAP50  mAP50-95)     Mask(P          R  "
     ]
    },
    {
     "name": "stdout",
     "output_type": "stream",
     "text": [
      "                   all          2        112      0.039       0.17      0.078     0.0245     0.0368       0.16     0.0587     0.0171\n"
     ]
    },
    {
     "name": "stderr",
     "output_type": "stream",
     "text": [
      "\n"
     ]
    },
    {
     "name": "stdout",
     "output_type": "stream",
     "text": [
      "\n",
      "      Epoch    GPU_mem   box_loss   seg_loss   cls_loss   dfl_loss  Instances       Size\n"
     ]
    },
    {
     "name": "stderr",
     "output_type": "stream",
     "text": [
      "     66/100         5G      2.353      2.995       3.13       1.31        566        640: 100%|██████████| 1/1 [\n",
      "                 Class     Images  Instances      Box(P          R      mAP50  mAP50-95)     Mask(P          R  "
     ]
    },
    {
     "name": "stdout",
     "output_type": "stream",
     "text": [
      "                   all          2        112     0.0404      0.175     0.0722      0.027     0.0393       0.17     0.0611     0.0228\n"
     ]
    },
    {
     "name": "stderr",
     "output_type": "stream",
     "text": [
      "\n"
     ]
    },
    {
     "name": "stdout",
     "output_type": "stream",
     "text": [
      "\n",
      "      Epoch    GPU_mem   box_loss   seg_loss   cls_loss   dfl_loss  Instances       Size\n"
     ]
    },
    {
     "name": "stderr",
     "output_type": "stream",
     "text": [
      "     67/100      5.01G      2.279      2.752       3.09      1.224        805        640: 100%|██████████| 1/1 [\n",
      "                 Class     Images  Instances      Box(P          R      mAP50  mAP50-95)     Mask(P          R  "
     ]
    },
    {
     "name": "stdout",
     "output_type": "stream",
     "text": [
      "                   all          2        112     0.0404      0.175     0.0722      0.027     0.0393       0.17     0.0611     0.0228\n"
     ]
    },
    {
     "name": "stderr",
     "output_type": "stream",
     "text": [
      "\n"
     ]
    },
    {
     "name": "stdout",
     "output_type": "stream",
     "text": [
      "\n",
      "      Epoch    GPU_mem   box_loss   seg_loss   cls_loss   dfl_loss  Instances       Size\n"
     ]
    },
    {
     "name": "stderr",
     "output_type": "stream",
     "text": [
      "     68/100      5.04G      2.297      3.147      2.954      1.197        672        640: 100%|██████████| 1/1 [\n",
      "                 Class     Images  Instances      Box(P          R      mAP50  mAP50-95)     Mask(P          R  "
     ]
    },
    {
     "name": "stdout",
     "output_type": "stream",
     "text": [
      "                   all          2        112     0.0404      0.175     0.0722      0.027     0.0393       0.17     0.0611     0.0228\n"
     ]
    },
    {
     "name": "stderr",
     "output_type": "stream",
     "text": [
      "\n"
     ]
    },
    {
     "name": "stdout",
     "output_type": "stream",
     "text": [
      "\n",
      "      Epoch    GPU_mem   box_loss   seg_loss   cls_loss   dfl_loss  Instances       Size\n"
     ]
    },
    {
     "name": "stderr",
     "output_type": "stream",
     "text": [
      "     69/100      5.05G      2.313      2.928      3.139      1.213        881        640: 100%|██████████| 1/1 [\n",
      "                 Class     Images  Instances      Box(P          R      mAP50  mAP50-95)     Mask(P          R  "
     ]
    },
    {
     "name": "stdout",
     "output_type": "stream",
     "text": [
      "                   all          2        112     0.0458      0.189     0.0738     0.0292     0.0503      0.208     0.0816      0.026\n"
     ]
    },
    {
     "name": "stderr",
     "output_type": "stream",
     "text": [
      "\n"
     ]
    },
    {
     "name": "stdout",
     "output_type": "stream",
     "text": [
      "\n",
      "      Epoch    GPU_mem   box_loss   seg_loss   cls_loss   dfl_loss  Instances       Size\n"
     ]
    },
    {
     "name": "stderr",
     "output_type": "stream",
     "text": [
      "     70/100      5.06G      2.354      2.748      3.014      1.232        712        640: 100%|██████████| 1/1 [\n",
      "                 Class     Images  Instances      Box(P          R      mAP50  mAP50-95)     Mask(P          R  "
     ]
    },
    {
     "name": "stdout",
     "output_type": "stream",
     "text": [
      "                   all          2        112     0.0458      0.189     0.0738     0.0292     0.0503      0.208     0.0816      0.026\n"
     ]
    },
    {
     "name": "stderr",
     "output_type": "stream",
     "text": [
      "\n"
     ]
    },
    {
     "name": "stdout",
     "output_type": "stream",
     "text": [
      "\n",
      "      Epoch    GPU_mem   box_loss   seg_loss   cls_loss   dfl_loss  Instances       Size\n"
     ]
    },
    {
     "name": "stderr",
     "output_type": "stream",
     "text": [
      "     71/100      5.08G      2.397      3.044      3.006      1.202        788        640: 100%|██████████| 1/1 [\n",
      "                 Class     Images  Instances      Box(P          R      mAP50  mAP50-95)     Mask(P          R  "
     ]
    },
    {
     "name": "stdout",
     "output_type": "stream",
     "text": [
      "                   all          2        112     0.0458      0.189     0.0738     0.0292     0.0503      0.208     0.0816      0.026\n"
     ]
    },
    {
     "name": "stderr",
     "output_type": "stream",
     "text": [
      "\n"
     ]
    },
    {
     "name": "stdout",
     "output_type": "stream",
     "text": [
      "\n",
      "      Epoch    GPU_mem   box_loss   seg_loss   cls_loss   dfl_loss  Instances       Size\n"
     ]
    },
    {
     "name": "stderr",
     "output_type": "stream",
     "text": [
      "     72/100       5.1G       2.43      3.015       3.04      1.237        782        640: 100%|██████████| 1/1 [\n",
      "                 Class     Images  Instances      Box(P          R      mAP50  mAP50-95)     Mask(P          R  "
     ]
    },
    {
     "name": "stdout",
     "output_type": "stream",
     "text": [
      "                   all          2        112     0.0501      0.203     0.0813     0.0316      0.049      0.198      0.077     0.0251\n"
     ]
    },
    {
     "name": "stderr",
     "output_type": "stream",
     "text": [
      "\n"
     ]
    },
    {
     "name": "stdout",
     "output_type": "stream",
     "text": [
      "\n",
      "      Epoch    GPU_mem   box_loss   seg_loss   cls_loss   dfl_loss  Instances       Size\n"
     ]
    },
    {
     "name": "stderr",
     "output_type": "stream",
     "text": [
      "     73/100      5.11G      2.404      2.988      2.975      1.203        704        640: 100%|██████████| 1/1 [\n",
      "                 Class     Images  Instances      Box(P          R      mAP50  mAP50-95)     Mask(P          R  "
     ]
    },
    {
     "name": "stdout",
     "output_type": "stream",
     "text": [
      "                   all          2        112     0.0501      0.203     0.0813     0.0316      0.049      0.198      0.077     0.0251\n"
     ]
    },
    {
     "name": "stderr",
     "output_type": "stream",
     "text": [
      "\n"
     ]
    },
    {
     "name": "stdout",
     "output_type": "stream",
     "text": [
      "\n",
      "      Epoch    GPU_mem   box_loss   seg_loss   cls_loss   dfl_loss  Instances       Size\n"
     ]
    },
    {
     "name": "stderr",
     "output_type": "stream",
     "text": [
      "     74/100      5.13G      2.432      3.071      3.027      1.219        743        640: 100%|██████████| 1/1 [\n",
      "                 Class     Images  Instances      Box(P          R      mAP50  mAP50-95)     Mask(P          R  "
     ]
    },
    {
     "name": "stdout",
     "output_type": "stream",
     "text": [
      "                   all          2        112     0.0501      0.203     0.0813     0.0316      0.049      0.198      0.077     0.0251\n"
     ]
    },
    {
     "name": "stderr",
     "output_type": "stream",
     "text": [
      "\n"
     ]
    },
    {
     "name": "stdout",
     "output_type": "stream",
     "text": [
      "\n",
      "      Epoch    GPU_mem   box_loss   seg_loss   cls_loss   dfl_loss  Instances       Size\n"
     ]
    },
    {
     "name": "stderr",
     "output_type": "stream",
     "text": [
      "     75/100      5.15G       2.27      2.874      2.854      1.251        536        640: 100%|██████████| 1/1 [\n",
      "                 Class     Images  Instances      Box(P          R      mAP50  mAP50-95)     Mask(P          R  "
     ]
    },
    {
     "name": "stdout",
     "output_type": "stream",
     "text": [
      "                   all          2        112     0.0505      0.198     0.0827     0.0313     0.0445      0.175      0.074     0.0251\n"
     ]
    },
    {
     "name": "stderr",
     "output_type": "stream",
     "text": [
      "\n"
     ]
    },
    {
     "name": "stdout",
     "output_type": "stream",
     "text": [
      "\n",
      "      Epoch    GPU_mem   box_loss   seg_loss   cls_loss   dfl_loss  Instances       Size\n"
     ]
    },
    {
     "name": "stderr",
     "output_type": "stream",
     "text": [
      "     76/100      5.16G      2.326      2.887      2.772      1.155        654        640: 100%|██████████| 1/1 [\n",
      "                 Class     Images  Instances      Box(P          R      mAP50  mAP50-95)     Mask(P          R  "
     ]
    },
    {
     "name": "stdout",
     "output_type": "stream",
     "text": [
      "                   all          2        112     0.0505      0.198     0.0827     0.0313     0.0445      0.175      0.074     0.0251\n"
     ]
    },
    {
     "name": "stderr",
     "output_type": "stream",
     "text": [
      "\n"
     ]
    },
    {
     "name": "stdout",
     "output_type": "stream",
     "text": [
      "\n",
      "      Epoch    GPU_mem   box_loss   seg_loss   cls_loss   dfl_loss  Instances       Size\n"
     ]
    },
    {
     "name": "stderr",
     "output_type": "stream",
     "text": [
      "     77/100      5.18G       2.38      2.925      2.945      1.203        930        640: 100%|██████████| 1/1 [\n",
      "                 Class     Images  Instances      Box(P          R      mAP50  mAP50-95)     Mask(P          R  "
     ]
    },
    {
     "name": "stdout",
     "output_type": "stream",
     "text": [
      "                   all          2        112     0.0505      0.198     0.0827     0.0313     0.0445      0.175      0.074     0.0251\n"
     ]
    },
    {
     "name": "stderr",
     "output_type": "stream",
     "text": [
      "\n"
     ]
    },
    {
     "name": "stdout",
     "output_type": "stream",
     "text": [
      "\n",
      "      Epoch    GPU_mem   box_loss   seg_loss   cls_loss   dfl_loss  Instances       Size\n"
     ]
    },
    {
     "name": "stderr",
     "output_type": "stream",
     "text": [
      "     78/100       5.2G      2.315      2.831       2.97      1.197        988        640: 100%|██████████| 1/1 [\n",
      "                 Class     Images  Instances      Box(P          R      mAP50  mAP50-95)     Mask(P          R  "
     ]
    },
    {
     "name": "stdout",
     "output_type": "stream",
     "text": [
      "                   all          2        112     0.0543      0.203     0.0915     0.0316     0.0442      0.165     0.0648     0.0233\n"
     ]
    },
    {
     "name": "stderr",
     "output_type": "stream",
     "text": [
      "\n"
     ]
    },
    {
     "name": "stdout",
     "output_type": "stream",
     "text": [
      "\n",
      "      Epoch    GPU_mem   box_loss   seg_loss   cls_loss   dfl_loss  Instances       Size\n"
     ]
    },
    {
     "name": "stderr",
     "output_type": "stream",
     "text": [
      "     79/100       5.2G      2.219      2.934       2.84      1.184        763        640: 100%|██████████| 1/1 [\n",
      "                 Class     Images  Instances      Box(P          R      mAP50  mAP50-95)     Mask(P          R  "
     ]
    },
    {
     "name": "stdout",
     "output_type": "stream",
     "text": [
      "                   all          2        112     0.0543      0.203     0.0915     0.0316     0.0442      0.165     0.0648     0.0233\n"
     ]
    },
    {
     "name": "stderr",
     "output_type": "stream",
     "text": [
      "\n"
     ]
    },
    {
     "name": "stdout",
     "output_type": "stream",
     "text": [
      "\n",
      "      Epoch    GPU_mem   box_loss   seg_loss   cls_loss   dfl_loss  Instances       Size\n"
     ]
    },
    {
     "name": "stderr",
     "output_type": "stream",
     "text": [
      "     80/100      5.23G       2.37      2.815      2.718      1.149        766        640: 100%|██████████| 1/1 [\n",
      "                 Class     Images  Instances      Box(P          R      mAP50  mAP50-95)     Mask(P          R  "
     ]
    },
    {
     "name": "stdout",
     "output_type": "stream",
     "text": [
      "                   all          2        112     0.0543      0.203     0.0915     0.0316     0.0442      0.165     0.0648     0.0233\n"
     ]
    },
    {
     "name": "stderr",
     "output_type": "stream",
     "text": [
      "\n"
     ]
    },
    {
     "name": "stdout",
     "output_type": "stream",
     "text": [
      "\n",
      "      Epoch    GPU_mem   box_loss   seg_loss   cls_loss   dfl_loss  Instances       Size\n"
     ]
    },
    {
     "name": "stderr",
     "output_type": "stream",
     "text": [
      "     81/100      5.24G      2.293      2.993      2.848      1.154        876        640: 100%|██████████| 1/1 [\n",
      "                 Class     Images  Instances      Box(P          R      mAP50  mAP50-95)     Mask(P          R  "
     ]
    },
    {
     "name": "stdout",
     "output_type": "stream",
     "text": [
      "                   all          2        112     0.0483      0.175     0.0712     0.0247     0.0379      0.137     0.0504     0.0196\n"
     ]
    },
    {
     "name": "stderr",
     "output_type": "stream",
     "text": [
      "\n"
     ]
    },
    {
     "name": "stdout",
     "output_type": "stream",
     "text": [
      "\n",
      "      Epoch    GPU_mem   box_loss   seg_loss   cls_loss   dfl_loss  Instances       Size\n"
     ]
    },
    {
     "name": "stderr",
     "output_type": "stream",
     "text": [
      "     82/100      5.25G      2.412      2.905      2.673      1.273        428        640: 100%|██████████| 1/1 [\n",
      "                 Class     Images  Instances      Box(P          R      mAP50  mAP50-95)     Mask(P          R  \n"
     ]
    },
    {
     "name": "stdout",
     "output_type": "stream",
     "text": [
      "                   all          2        112     0.0483      0.175     0.0712     0.0247     0.0379      0.137     0.0504     0.0196\n",
      "\n",
      "      Epoch    GPU_mem   box_loss   seg_loss   cls_loss   dfl_loss  Instances       Size\n"
     ]
    },
    {
     "name": "stderr",
     "output_type": "stream",
     "text": [
      "     83/100      5.28G      2.339      2.899      2.761      1.199        713        640: 100%|██████████| 1/1 [\n",
      "                 Class     Images  Instances      Box(P          R      mAP50  mAP50-95)     Mask(P          R  "
     ]
    },
    {
     "name": "stdout",
     "output_type": "stream",
     "text": [
      "                   all          2        112     0.0483      0.175     0.0712     0.0247     0.0379      0.137     0.0504     0.0196\n"
     ]
    },
    {
     "name": "stderr",
     "output_type": "stream",
     "text": [
      "\n"
     ]
    },
    {
     "name": "stdout",
     "output_type": "stream",
     "text": [
      "\n",
      "      Epoch    GPU_mem   box_loss   seg_loss   cls_loss   dfl_loss  Instances       Size\n"
     ]
    },
    {
     "name": "stderr",
     "output_type": "stream",
     "text": [
      "     84/100      5.29G      2.282      2.791      2.767      1.166        494        640: 100%|██████████| 1/1 [\n",
      "                 Class     Images  Instances      Box(P          R      mAP50  mAP50-95)     Mask(P          R  \n"
     ]
    },
    {
     "name": "stdout",
     "output_type": "stream",
     "text": [
      "                   all          2        112     0.0333      0.113     0.0446     0.0188     0.0347      0.118     0.0437     0.0171\n",
      "\n",
      "      Epoch    GPU_mem   box_loss   seg_loss   cls_loss   dfl_loss  Instances       Size\n"
     ]
    },
    {
     "name": "stderr",
     "output_type": "stream",
     "text": [
      "     85/100      5.68G      2.289      2.854       2.91      1.186        864        640: 100%|██████████| 1/1 [\n",
      "                 Class     Images  Instances      Box(P          R      mAP50  mAP50-95)     Mask(P          R  "
     ]
    },
    {
     "name": "stdout",
     "output_type": "stream",
     "text": [
      "                   all          2        112     0.0333      0.113     0.0446     0.0188     0.0347      0.118     0.0437     0.0171\n"
     ]
    },
    {
     "name": "stderr",
     "output_type": "stream",
     "text": [
      "\n"
     ]
    },
    {
     "name": "stdout",
     "output_type": "stream",
     "text": [
      "\n",
      "      Epoch    GPU_mem   box_loss   seg_loss   cls_loss   dfl_loss  Instances       Size\n"
     ]
    },
    {
     "name": "stderr",
     "output_type": "stream",
     "text": [
      "     86/100       5.7G      2.213       2.81      2.917      1.171       1140        640: 100%|██████████| 1/1 [\n",
      "                 Class     Images  Instances      Box(P          R      mAP50  mAP50-95)     Mask(P          R  "
     ]
    },
    {
     "name": "stdout",
     "output_type": "stream",
     "text": [
      "                   all          2        112     0.0333      0.113     0.0446     0.0188     0.0347      0.118     0.0437     0.0171\n"
     ]
    },
    {
     "name": "stderr",
     "output_type": "stream",
     "text": [
      "\n"
     ]
    },
    {
     "name": "stdout",
     "output_type": "stream",
     "text": [
      "\n",
      "      Epoch    GPU_mem   box_loss   seg_loss   cls_loss   dfl_loss  Instances       Size\n"
     ]
    },
    {
     "name": "stderr",
     "output_type": "stream",
     "text": [
      "     87/100      5.72G      2.222      2.785      2.801       1.16        793        640: 100%|██████████| 1/1 [\n",
      "                 Class     Images  Instances      Box(P          R      mAP50  mAP50-95)     Mask(P          R  "
     ]
    },
    {
     "name": "stdout",
     "output_type": "stream",
     "text": [
      "                   all          2        112     0.0333      0.113     0.0446     0.0188     0.0347      0.118     0.0437     0.0171\n"
     ]
    },
    {
     "name": "stderr",
     "output_type": "stream",
     "text": [
      "\n"
     ]
    },
    {
     "name": "stdout",
     "output_type": "stream",
     "text": [
      "\n",
      "      Epoch    GPU_mem   box_loss   seg_loss   cls_loss   dfl_loss  Instances       Size\n"
     ]
    },
    {
     "name": "stderr",
     "output_type": "stream",
     "text": [
      "     88/100      5.73G      2.331      3.018       2.96      1.187       1081        640: 100%|██████████| 1/1 [\n",
      "                 Class     Images  Instances      Box(P          R      mAP50  mAP50-95)     Mask(P          R  "
     ]
    },
    {
     "name": "stdout",
     "output_type": "stream",
     "text": [
      "                   all          2        112     0.0421      0.142     0.0562     0.0193     0.0365      0.123     0.0411     0.0169\n"
     ]
    },
    {
     "name": "stderr",
     "output_type": "stream",
     "text": [
      "\n"
     ]
    },
    {
     "name": "stdout",
     "output_type": "stream",
     "text": [
      "\n",
      "      Epoch    GPU_mem   box_loss   seg_loss   cls_loss   dfl_loss  Instances       Size\n"
     ]
    },
    {
     "name": "stderr",
     "output_type": "stream",
     "text": [
      "     89/100      5.74G      2.146      2.759      2.644      1.137        751        640: 100%|██████████| 1/1 [\n",
      "                 Class     Images  Instances      Box(P          R      mAP50  mAP50-95)     Mask(P          R  "
     ]
    },
    {
     "name": "stdout",
     "output_type": "stream",
     "text": [
      "                   all          2        112     0.0421      0.142     0.0562     0.0193     0.0365      0.123     0.0411     0.0169\n"
     ]
    },
    {
     "name": "stderr",
     "output_type": "stream",
     "text": [
      "\n"
     ]
    },
    {
     "name": "stdout",
     "output_type": "stream",
     "text": [
      "\n",
      "      Epoch    GPU_mem   box_loss   seg_loss   cls_loss   dfl_loss  Instances       Size\n"
     ]
    },
    {
     "name": "stderr",
     "output_type": "stream",
     "text": [
      "     90/100      5.77G      2.208      2.653        2.6      1.183        562        640: 100%|██████████| 1/1 [\n",
      "                 Class     Images  Instances      Box(P          R      mAP50  mAP50-95)     Mask(P          R  "
     ]
    },
    {
     "name": "stdout",
     "output_type": "stream",
     "text": [
      "                   all          2        112     0.0421      0.142     0.0562     0.0193     0.0365      0.123     0.0411     0.0169\n"
     ]
    },
    {
     "name": "stderr",
     "output_type": "stream",
     "text": [
      "\n"
     ]
    },
    {
     "name": "stdout",
     "output_type": "stream",
     "text": [
      "Closing dataloader mosaic\n",
      "\n",
      "      Epoch    GPU_mem   box_loss   seg_loss   cls_loss   dfl_loss  Instances       Size\n"
     ]
    },
    {
     "name": "stderr",
     "output_type": "stream",
     "text": [
      "     91/100      5.79G      2.192      2.714      2.474      1.179        441        640: 100%|██████████| 1/1 [\n",
      "                 Class     Images  Instances      Box(P          R      mAP50  mAP50-95)     Mask(P          R  "
     ]
    },
    {
     "name": "stdout",
     "output_type": "stream",
     "text": [
      "                   all          2        112     0.0421      0.142     0.0562     0.0193     0.0365      0.123     0.0411     0.0169\n"
     ]
    },
    {
     "name": "stderr",
     "output_type": "stream",
     "text": [
      "\n"
     ]
    },
    {
     "name": "stdout",
     "output_type": "stream",
     "text": [
      "\n",
      "      Epoch    GPU_mem   box_loss   seg_loss   cls_loss   dfl_loss  Instances       Size\n"
     ]
    },
    {
     "name": "stderr",
     "output_type": "stream",
     "text": [
      "     92/100       5.8G      2.198      2.806      2.481      1.163        457        640: 100%|██████████| 1/1 [\n",
      "                 Class     Images  Instances      Box(P          R      mAP50  mAP50-95)     Mask(P          R  "
     ]
    },
    {
     "name": "stdout",
     "output_type": "stream",
     "text": [
      "                   all          2        112     0.0581      0.203     0.0902     0.0296     0.0554      0.193     0.0779     0.0237\n",
      "\u001b[34m\u001b[1mEarlyStopping: \u001b[0mTraining stopped early as no improvement observed in last 20 epochs. Best results observed at epoch 72, best model saved as best.pt.\n",
      "To update EarlyStopping(patience=20) pass a new patience value, i.e. `patience=300` or use `patience=0` to disable EarlyStopping.\n"
     ]
    },
    {
     "name": "stderr",
     "output_type": "stream",
     "text": [
      "\n"
     ]
    },
    {
     "name": "stdout",
     "output_type": "stream",
     "text": [
      "\n",
      "92 epochs completed in 0.014 hours.\n",
      "Optimizer stripped from /home/ubuntu/roofmap_project/runs/segment/train12/weights/last.pt, 6.0MB\n",
      "Optimizer stripped from /home/ubuntu/roofmap_project/runs/segment/train12/weights/best.pt, 6.0MB\n",
      "\n",
      "Validating /home/ubuntu/roofmap_project/runs/segment/train12/weights/best.pt...\n",
      "Ultralytics 8.3.100 🚀 Python-3.12.3 torch-2.6.0+cu124 CUDA:0 (NVIDIA A100-SXM4-40GB, 40326MiB)\n",
      "YOLO11n-seg summary (fused): 113 layers, 2,835,933 parameters, 0 gradients, 10.2 GFLOPs\n"
     ]
    },
    {
     "name": "stderr",
     "output_type": "stream",
     "text": [
      "                 Class     Images  Instances      Box(P          R      mAP50  mAP50-95)     Mask(P          R  "
     ]
    },
    {
     "name": "stdout",
     "output_type": "stream",
     "text": [
      "WARNING ⚠️ Limiting validation plots to first 50 items per image for speed...\n",
      "WARNING ⚠️ Limiting validation plots to first 50 items per image for speed...\n"
     ]
    },
    {
     "name": "stderr",
     "output_type": "stream",
     "text": [
      "                 Class     Images  Instances      Box(P          R      mAP50  mAP50-95)     Mask(P          R  \n"
     ]
    },
    {
     "name": "stdout",
     "output_type": "stream",
     "text": [
      "                   all          2        112     0.0501      0.203     0.0803     0.0309      0.049      0.198     0.0757      0.025\n",
      "            roof_tiles          2        106        0.1      0.406      0.161     0.0619     0.0979      0.396      0.151       0.05\n",
      "             tar_paper          1          6          0          0          0          0          0          0          0          0\n",
      "Speed: 0.4ms preprocess, 5.2ms inference, 0.0ms loss, 2.0ms postprocess per image\n",
      "Results saved to \u001b[1m/home/ubuntu/roofmap_project/runs/segment/train12\u001b[0m\n"
     ]
    }
   ],
   "source": [
    "model = YOLO('yolo11n-seg.pt')\n",
    "\n",
    "\n",
    "results = model.train(\n",
    "    data=\"datasets/sample_dataset/roof_materials.yaml\",\n",
    "    epochs=100,\n",
    "    imgsz=640,\n",
    "    batch=16,\n",
    "    plots=True,\n",
    "    device='0',\n",
    "    pretrained=True,\n",
    "    patience=20,\n",
    "    save_period=10\n",
    ")"
   ]
  },
  {
   "cell_type": "markdown",
   "id": "0a85929b-a74a-4b86-85e5-bddcc7760167",
   "metadata": {},
   "source": [
    "#### Step 4: Model Inference\n",
    "We will apply the model we just trained to label other images."
   ]
  },
  {
   "cell_type": "code",
   "execution_count": null,
   "id": "5763deb5-1ee9-41e9-8bb2-8e62e224b016",
   "metadata": {},
   "outputs": [],
   "source": [
    "inference_results = model.predict('path/to/image.jpg', save=True, imgsz=640)"
   ]
  },
  {
   "cell_type": "markdown",
   "id": "7f1f0cc9-80dc-424b-9c6c-1aed26da1837",
   "metadata": {},
   "source": [
    "#### Next Steps + Potential Improvements\n",
    "\n",
    "- Experimenting with smaller patch sizes to decrease the amount of patches with unlabelled houses\n",
    "- Applying data augmentation to balance out the class imbalance\n",
    "- Creating a pipeline that works for areas with sparse/non-grouped labels such as Nepal, Mozambique, Sri Lanka, and India. This was the initial goal but we realized data quality was subpar, so we pivoted to creating a reproducible pipeline in a data-rich area that could later be applied to other areas.\n",
    "- Elaborate more in documentation and step descriptions\n",
    "- Creating a pipeline that works for medium-high resolution satellite imagery\n",
    "- Provide model checkpoints\n",
    "- Evaluation and inference on nearby areas in Germany to expand available data\n",
    "- Manually validating test set data\n",
    "- Create roof shape dataset"
   ]
  }
 ],
 "metadata": {
  "kernelspec": {
   "display_name": "Python 3 (ipykernel)",
   "language": "python",
   "name": "python3"
  },
  "language_info": {
   "codemirror_mode": {
    "name": "ipython",
    "version": 3
   },
   "file_extension": ".py",
   "mimetype": "text/x-python",
   "name": "python",
   "nbconvert_exporter": "python",
   "pygments_lexer": "ipython3",
   "version": "3.12.3"
  }
 },
 "nbformat": 4,
 "nbformat_minor": 5
}
